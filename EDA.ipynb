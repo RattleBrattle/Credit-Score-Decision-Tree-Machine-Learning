{
 "cells": [
  {
   "cell_type": "markdown",
   "id": "0c64756d",
   "metadata": {},
   "source": [
    "# 1. Import Libraries"
   ]
  },
  {
   "cell_type": "code",
   "execution_count": 280,
   "id": "74230651",
   "metadata": {},
   "outputs": [],
   "source": [
    "import pandas as pd\n",
    "import numpy as np\n",
    "import matplotlib.pyplot as plt\n",
    "import seaborn as sns\n",
    "%matplotlib inline\n",
    "import os \n",
    "import sys"
   ]
  },
  {
   "cell_type": "code",
   "execution_count": 281,
   "id": "c2d5b018",
   "metadata": {},
   "outputs": [],
   "source": [
    "from sklearn.impute import SimpleImputer, KNNImputer\n",
    "from scipy.stats.mstats import winsorize\n",
    "from sklearn.preprocessing import OneHotEncoder, LabelEncoder\n",
    "import re"
   ]
  },
  {
   "cell_type": "markdown",
   "id": "4db9aeb6",
   "metadata": {},
   "source": [
    "# 2. Import the Dataset"
   ]
  },
  {
   "cell_type": "code",
   "execution_count": 282,
   "id": "b94f9bf1",
   "metadata": {},
   "outputs": [
    {
     "name": "stderr",
     "output_type": "stream",
     "text": [
      "C:\\Users\\basel\\AppData\\Local\\Temp\\ipykernel_5336\\3285261635.py:2: DtypeWarning: Columns (26) have mixed types. Specify dtype option on import or set low_memory=False.\n",
      "  df = pd.read_csv('Dataset/train.csv')\n"
     ]
    }
   ],
   "source": [
    "try:\n",
    "    df = pd.read_csv('Dataset/train.csv')\n",
    "except FileNotFoundError:\n",
    "    print(\"File not found. Please check the file path.\")\n",
    "except pd.errors.EmptyDataError:\n",
    "    print(\"File is empty. Please provide a valid CSV file.\")\n",
    "except Exception as e:\n",
    "    print(f\"An error occurred: {e}\")"
   ]
  },
  {
   "cell_type": "markdown",
   "id": "9c7dd5ad",
   "metadata": {},
   "source": [
    "# 3. Analyzing the Dataset"
   ]
  },
  {
   "cell_type": "code",
   "execution_count": 283,
   "id": "03b383b1",
   "metadata": {},
   "outputs": [
    {
     "data": {
      "text/html": [
       "<div>\n",
       "<style scoped>\n",
       "    .dataframe tbody tr th:only-of-type {\n",
       "        vertical-align: middle;\n",
       "    }\n",
       "\n",
       "    .dataframe tbody tr th {\n",
       "        vertical-align: top;\n",
       "    }\n",
       "\n",
       "    .dataframe thead th {\n",
       "        text-align: right;\n",
       "    }\n",
       "</style>\n",
       "<table border=\"1\" class=\"dataframe\">\n",
       "  <thead>\n",
       "    <tr style=\"text-align: right;\">\n",
       "      <th></th>\n",
       "      <th>ID</th>\n",
       "      <th>Customer_ID</th>\n",
       "      <th>Month</th>\n",
       "      <th>Name</th>\n",
       "      <th>Age</th>\n",
       "      <th>SSN</th>\n",
       "      <th>Occupation</th>\n",
       "      <th>Annual_Income</th>\n",
       "      <th>Monthly_Inhand_Salary</th>\n",
       "      <th>Num_Bank_Accounts</th>\n",
       "      <th>...</th>\n",
       "      <th>Credit_Mix</th>\n",
       "      <th>Outstanding_Debt</th>\n",
       "      <th>Credit_Utilization_Ratio</th>\n",
       "      <th>Credit_History_Age</th>\n",
       "      <th>Payment_of_Min_Amount</th>\n",
       "      <th>Total_EMI_per_month</th>\n",
       "      <th>Amount_invested_monthly</th>\n",
       "      <th>Payment_Behaviour</th>\n",
       "      <th>Monthly_Balance</th>\n",
       "      <th>Credit_Score</th>\n",
       "    </tr>\n",
       "  </thead>\n",
       "  <tbody>\n",
       "    <tr>\n",
       "      <th>0</th>\n",
       "      <td>0x1602</td>\n",
       "      <td>CUS_0xd40</td>\n",
       "      <td>January</td>\n",
       "      <td>Aaron Maashoh</td>\n",
       "      <td>23</td>\n",
       "      <td>821-00-0265</td>\n",
       "      <td>Scientist</td>\n",
       "      <td>19114.12</td>\n",
       "      <td>1824.843333</td>\n",
       "      <td>3</td>\n",
       "      <td>...</td>\n",
       "      <td>_</td>\n",
       "      <td>809.98</td>\n",
       "      <td>26.822620</td>\n",
       "      <td>22 Years and 1 Months</td>\n",
       "      <td>No</td>\n",
       "      <td>49.574949</td>\n",
       "      <td>80.41529543900253</td>\n",
       "      <td>High_spent_Small_value_payments</td>\n",
       "      <td>312.49408867943663</td>\n",
       "      <td>Good</td>\n",
       "    </tr>\n",
       "    <tr>\n",
       "      <th>1</th>\n",
       "      <td>0x1603</td>\n",
       "      <td>CUS_0xd40</td>\n",
       "      <td>February</td>\n",
       "      <td>Aaron Maashoh</td>\n",
       "      <td>23</td>\n",
       "      <td>821-00-0265</td>\n",
       "      <td>Scientist</td>\n",
       "      <td>19114.12</td>\n",
       "      <td>NaN</td>\n",
       "      <td>3</td>\n",
       "      <td>...</td>\n",
       "      <td>Good</td>\n",
       "      <td>809.98</td>\n",
       "      <td>31.944960</td>\n",
       "      <td>NaN</td>\n",
       "      <td>No</td>\n",
       "      <td>49.574949</td>\n",
       "      <td>118.28022162236736</td>\n",
       "      <td>Low_spent_Large_value_payments</td>\n",
       "      <td>284.62916249607184</td>\n",
       "      <td>Good</td>\n",
       "    </tr>\n",
       "    <tr>\n",
       "      <th>2</th>\n",
       "      <td>0x1604</td>\n",
       "      <td>CUS_0xd40</td>\n",
       "      <td>March</td>\n",
       "      <td>Aaron Maashoh</td>\n",
       "      <td>-500</td>\n",
       "      <td>821-00-0265</td>\n",
       "      <td>Scientist</td>\n",
       "      <td>19114.12</td>\n",
       "      <td>NaN</td>\n",
       "      <td>3</td>\n",
       "      <td>...</td>\n",
       "      <td>Good</td>\n",
       "      <td>809.98</td>\n",
       "      <td>28.609352</td>\n",
       "      <td>22 Years and 3 Months</td>\n",
       "      <td>No</td>\n",
       "      <td>49.574949</td>\n",
       "      <td>81.699521264648</td>\n",
       "      <td>Low_spent_Medium_value_payments</td>\n",
       "      <td>331.2098628537912</td>\n",
       "      <td>Good</td>\n",
       "    </tr>\n",
       "    <tr>\n",
       "      <th>3</th>\n",
       "      <td>0x1605</td>\n",
       "      <td>CUS_0xd40</td>\n",
       "      <td>April</td>\n",
       "      <td>Aaron Maashoh</td>\n",
       "      <td>23</td>\n",
       "      <td>821-00-0265</td>\n",
       "      <td>Scientist</td>\n",
       "      <td>19114.12</td>\n",
       "      <td>NaN</td>\n",
       "      <td>3</td>\n",
       "      <td>...</td>\n",
       "      <td>Good</td>\n",
       "      <td>809.98</td>\n",
       "      <td>31.377862</td>\n",
       "      <td>22 Years and 4 Months</td>\n",
       "      <td>No</td>\n",
       "      <td>49.574949</td>\n",
       "      <td>199.4580743910713</td>\n",
       "      <td>Low_spent_Small_value_payments</td>\n",
       "      <td>223.45130972736786</td>\n",
       "      <td>Good</td>\n",
       "    </tr>\n",
       "    <tr>\n",
       "      <th>4</th>\n",
       "      <td>0x1606</td>\n",
       "      <td>CUS_0xd40</td>\n",
       "      <td>May</td>\n",
       "      <td>Aaron Maashoh</td>\n",
       "      <td>23</td>\n",
       "      <td>821-00-0265</td>\n",
       "      <td>Scientist</td>\n",
       "      <td>19114.12</td>\n",
       "      <td>1824.843333</td>\n",
       "      <td>3</td>\n",
       "      <td>...</td>\n",
       "      <td>Good</td>\n",
       "      <td>809.98</td>\n",
       "      <td>24.797347</td>\n",
       "      <td>22 Years and 5 Months</td>\n",
       "      <td>No</td>\n",
       "      <td>49.574949</td>\n",
       "      <td>41.420153086217326</td>\n",
       "      <td>High_spent_Medium_value_payments</td>\n",
       "      <td>341.48923103222177</td>\n",
       "      <td>Good</td>\n",
       "    </tr>\n",
       "  </tbody>\n",
       "</table>\n",
       "<p>5 rows × 28 columns</p>\n",
       "</div>"
      ],
      "text/plain": [
       "       ID Customer_ID     Month           Name   Age          SSN Occupation  \\\n",
       "0  0x1602   CUS_0xd40   January  Aaron Maashoh    23  821-00-0265  Scientist   \n",
       "1  0x1603   CUS_0xd40  February  Aaron Maashoh    23  821-00-0265  Scientist   \n",
       "2  0x1604   CUS_0xd40     March  Aaron Maashoh  -500  821-00-0265  Scientist   \n",
       "3  0x1605   CUS_0xd40     April  Aaron Maashoh    23  821-00-0265  Scientist   \n",
       "4  0x1606   CUS_0xd40       May  Aaron Maashoh    23  821-00-0265  Scientist   \n",
       "\n",
       "  Annual_Income  Monthly_Inhand_Salary  Num_Bank_Accounts  ...  Credit_Mix  \\\n",
       "0      19114.12            1824.843333                  3  ...           _   \n",
       "1      19114.12                    NaN                  3  ...        Good   \n",
       "2      19114.12                    NaN                  3  ...        Good   \n",
       "3      19114.12                    NaN                  3  ...        Good   \n",
       "4      19114.12            1824.843333                  3  ...        Good   \n",
       "\n",
       "   Outstanding_Debt Credit_Utilization_Ratio     Credit_History_Age  \\\n",
       "0            809.98                26.822620  22 Years and 1 Months   \n",
       "1            809.98                31.944960                    NaN   \n",
       "2            809.98                28.609352  22 Years and 3 Months   \n",
       "3            809.98                31.377862  22 Years and 4 Months   \n",
       "4            809.98                24.797347  22 Years and 5 Months   \n",
       "\n",
       "   Payment_of_Min_Amount Total_EMI_per_month Amount_invested_monthly  \\\n",
       "0                     No           49.574949       80.41529543900253   \n",
       "1                     No           49.574949      118.28022162236736   \n",
       "2                     No           49.574949         81.699521264648   \n",
       "3                     No           49.574949       199.4580743910713   \n",
       "4                     No           49.574949      41.420153086217326   \n",
       "\n",
       "                  Payment_Behaviour     Monthly_Balance Credit_Score  \n",
       "0   High_spent_Small_value_payments  312.49408867943663         Good  \n",
       "1    Low_spent_Large_value_payments  284.62916249607184         Good  \n",
       "2   Low_spent_Medium_value_payments   331.2098628537912         Good  \n",
       "3    Low_spent_Small_value_payments  223.45130972736786         Good  \n",
       "4  High_spent_Medium_value_payments  341.48923103222177         Good  \n",
       "\n",
       "[5 rows x 28 columns]"
      ]
     },
     "execution_count": 283,
     "metadata": {},
     "output_type": "execute_result"
    }
   ],
   "source": [
    "df.head()"
   ]
  },
  {
   "cell_type": "code",
   "execution_count": 284,
   "id": "1a253e77",
   "metadata": {},
   "outputs": [
    {
     "name": "stdout",
     "output_type": "stream",
     "text": [
      "<class 'pandas.core.frame.DataFrame'>\n",
      "RangeIndex: 100000 entries, 0 to 99999\n",
      "Data columns (total 28 columns):\n",
      " #   Column                    Non-Null Count   Dtype  \n",
      "---  ------                    --------------   -----  \n",
      " 0   ID                        100000 non-null  object \n",
      " 1   Customer_ID               100000 non-null  object \n",
      " 2   Month                     100000 non-null  object \n",
      " 3   Name                      90015 non-null   object \n",
      " 4   Age                       100000 non-null  object \n",
      " 5   SSN                       100000 non-null  object \n",
      " 6   Occupation                100000 non-null  object \n",
      " 7   Annual_Income             100000 non-null  object \n",
      " 8   Monthly_Inhand_Salary     84998 non-null   float64\n",
      " 9   Num_Bank_Accounts         100000 non-null  int64  \n",
      " 10  Num_Credit_Card           100000 non-null  int64  \n",
      " 11  Interest_Rate             100000 non-null  int64  \n",
      " 12  Num_of_Loan               100000 non-null  object \n",
      " 13  Type_of_Loan              88592 non-null   object \n",
      " 14  Delay_from_due_date       100000 non-null  int64  \n",
      " 15  Num_of_Delayed_Payment    92998 non-null   object \n",
      " 16  Changed_Credit_Limit      100000 non-null  object \n",
      " 17  Num_Credit_Inquiries      98035 non-null   float64\n",
      " 18  Credit_Mix                100000 non-null  object \n",
      " 19  Outstanding_Debt          100000 non-null  object \n",
      " 20  Credit_Utilization_Ratio  100000 non-null  float64\n",
      " 21  Credit_History_Age        90970 non-null   object \n",
      " 22  Payment_of_Min_Amount     100000 non-null  object \n",
      " 23  Total_EMI_per_month       100000 non-null  float64\n",
      " 24  Amount_invested_monthly   95521 non-null   object \n",
      " 25  Payment_Behaviour         100000 non-null  object \n",
      " 26  Monthly_Balance           98800 non-null   object \n",
      " 27  Credit_Score              100000 non-null  object \n",
      "dtypes: float64(4), int64(4), object(20)\n",
      "memory usage: 21.4+ MB\n"
     ]
    }
   ],
   "source": [
    "df.info()"
   ]
  },
  {
   "cell_type": "code",
   "execution_count": 285,
   "id": "ccf44085",
   "metadata": {},
   "outputs": [
    {
     "name": "stdout",
     "output_type": "stream",
     "text": [
      "Missing values in each column:\n",
      " ID                              0\n",
      "Customer_ID                     0\n",
      "Month                           0\n",
      "Name                         9985\n",
      "Age                             0\n",
      "SSN                             0\n",
      "Occupation                      0\n",
      "Annual_Income                   0\n",
      "Monthly_Inhand_Salary       15002\n",
      "Num_Bank_Accounts               0\n",
      "Num_Credit_Card                 0\n",
      "Interest_Rate                   0\n",
      "Num_of_Loan                     0\n",
      "Type_of_Loan                11408\n",
      "Delay_from_due_date             0\n",
      "Num_of_Delayed_Payment       7002\n",
      "Changed_Credit_Limit            0\n",
      "Num_Credit_Inquiries         1965\n",
      "Credit_Mix                      0\n",
      "Outstanding_Debt                0\n",
      "Credit_Utilization_Ratio        0\n",
      "Credit_History_Age           9030\n",
      "Payment_of_Min_Amount           0\n",
      "Total_EMI_per_month             0\n",
      "Amount_invested_monthly      4479\n",
      "Payment_Behaviour               0\n",
      "Monthly_Balance              1200\n",
      "Credit_Score                    0\n",
      "dtype: int64\n"
     ]
    }
   ],
   "source": [
    "# Counting missing values in each column\n",
    "missing_values = df.isnull().sum()\n",
    "print(\"Missing values in each column:\\n\", missing_values)"
   ]
  },
  {
   "cell_type": "markdown",
   "id": "335dff6d",
   "metadata": {},
   "source": [
    "# 4. Fixing Missing Values & duplicates"
   ]
  },
  {
   "cell_type": "markdown",
   "id": "ff39a337",
   "metadata": {},
   "source": [
    "# 4.1. Checking for duplicates"
   ]
  },
  {
   "cell_type": "code",
   "execution_count": 286,
   "id": "1713a339",
   "metadata": {},
   "outputs": [
    {
     "data": {
      "text/plain": [
       "np.int64(0)"
      ]
     },
     "execution_count": 286,
     "metadata": {},
     "output_type": "execute_result"
    }
   ],
   "source": [
    "df.duplicated().sum()"
   ]
  },
  {
   "cell_type": "markdown",
   "id": "adc1a1b7",
   "metadata": {},
   "source": [
    "- No duplicates present in the dataset."
   ]
  },
  {
   "cell_type": "markdown",
   "id": "af7a952b",
   "metadata": {},
   "source": [
    "# 4.2. Fixing Age values in 'Age' column"
   ]
  },
  {
   "cell_type": "markdown",
   "id": "8cd2c062",
   "metadata": {},
   "source": [
    "- Age column is not relevant, so we will drop it later on."
   ]
  },
  {
   "cell_type": "markdown",
   "id": "dd30b009",
   "metadata": {},
   "source": [
    "# 4.3. Analyzing Name column"
   ]
  },
  {
   "cell_type": "markdown",
   "id": "d2daa157",
   "metadata": {},
   "source": [
    "- For our purposes of building a model to predict credit scores, we will not be using names as features.\n",
    "- It is not relevant to us and only adds noise to our model."
   ]
  },
  {
   "cell_type": "markdown",
   "id": "cdcc2cb9",
   "metadata": {},
   "source": [
    "# 4.4. Customer ID & ID"
   ]
  },
  {
   "cell_type": "code",
   "execution_count": 287,
   "id": "c4560340",
   "metadata": {},
   "outputs": [
    {
     "data": {
      "text/plain": [
       "ID\n",
       "0x25fd5    1\n",
       "0x25fd4    1\n",
       "0x25fd3    1\n",
       "0x25fd2    1\n",
       "0x25fd1    1\n",
       "          ..\n",
       "0x1606     1\n",
       "0x1605     1\n",
       "0x1604     1\n",
       "0x1603     1\n",
       "0x1602     1\n",
       "Name: count, Length: 100000, dtype: int64"
      ]
     },
     "execution_count": 287,
     "metadata": {},
     "output_type": "execute_result"
    }
   ],
   "source": [
    "df['ID'].value_counts()"
   ]
  },
  {
   "cell_type": "code",
   "execution_count": 288,
   "id": "021ca671",
   "metadata": {},
   "outputs": [
    {
     "data": {
      "text/plain": [
       "np.int64(0)"
      ]
     },
     "execution_count": 288,
     "metadata": {},
     "output_type": "execute_result"
    }
   ],
   "source": [
    "df['ID'].duplicated().sum()"
   ]
  },
  {
   "cell_type": "code",
   "execution_count": 289,
   "id": "eb3ac2f8",
   "metadata": {},
   "outputs": [
    {
     "data": {
      "text/plain": [
       "np.int64(87500)"
      ]
     },
     "execution_count": 289,
     "metadata": {},
     "output_type": "execute_result"
    }
   ],
   "source": [
    "df['Customer_ID'].duplicated().sum()"
   ]
  },
  {
   "cell_type": "markdown",
   "id": "3500d2fd",
   "metadata": {},
   "source": [
    "- Since a lot of Customer IDs are duplicated, and we already have an ID column, we will drop the Customer ID column to save time as only one ID Test subject column will suffice."
   ]
  },
  {
   "cell_type": "code",
   "execution_count": 290,
   "id": "31d89869",
   "metadata": {},
   "outputs": [
    {
     "data": {
      "text/plain": [
       "0            0\n",
       "1            1\n",
       "2            2\n",
       "3            3\n",
       "4            4\n",
       "         ...  \n",
       "99995    99995\n",
       "99996    99996\n",
       "99997    99997\n",
       "99998    99998\n",
       "99999    99999\n",
       "Name: ID, Length: 100000, dtype: int64"
      ]
     },
     "execution_count": 290,
     "metadata": {},
     "output_type": "execute_result"
    }
   ],
   "source": [
    "# Split ID column on x\n",
    "df['ID'] = np.arange(0, 100000, 1)\n",
    "df['ID']"
   ]
  },
  {
   "cell_type": "markdown",
   "id": "25759c44",
   "metadata": {},
   "source": [
    "# 4.5. Analyzing SSN column"
   ]
  },
  {
   "cell_type": "code",
   "execution_count": 291,
   "id": "b1d39376",
   "metadata": {},
   "outputs": [
    {
     "data": {
      "text/plain": [
       "np.int64(87499)"
      ]
     },
     "execution_count": 291,
     "metadata": {},
     "output_type": "execute_result"
    }
   ],
   "source": [
    "df['SSN'].duplicated().sum()"
   ]
  },
  {
   "cell_type": "markdown",
   "id": "f2d0f0ab",
   "metadata": {},
   "source": [
    "- We drop the SSN column for two reasons:\n",
    "1. It is another form of ID which is already present in the dataset.\n",
    "2. It is almost entirely duplicated and we will not be using it as a feature."
   ]
  },
  {
   "cell_type": "markdown",
   "id": "6fd80e2a",
   "metadata": {},
   "source": [
    "# 4.6. Analyzing Occupation column"
   ]
  },
  {
   "cell_type": "code",
   "execution_count": 292,
   "id": "8986e9e4",
   "metadata": {},
   "outputs": [
    {
     "data": {
      "text/plain": [
       "Occupation\n",
       "_______          7062\n",
       "Lawyer           6575\n",
       "Architect        6355\n",
       "Engineer         6350\n",
       "Scientist        6299\n",
       "Mechanic         6291\n",
       "Accountant       6271\n",
       "Developer        6235\n",
       "Media_Manager    6232\n",
       "Teacher          6215\n",
       "Entrepreneur     6174\n",
       "Doctor           6087\n",
       "Journalist       6085\n",
       "Manager          5973\n",
       "Musician         5911\n",
       "Writer           5885\n",
       "Name: count, dtype: int64"
      ]
     },
     "execution_count": 292,
     "metadata": {},
     "output_type": "execute_result"
    }
   ],
   "source": [
    "df['Occupation'].value_counts()"
   ]
  },
  {
   "cell_type": "markdown",
   "id": "1a95d716",
   "metadata": {},
   "source": [
    "- Replacing the _____ Occupion with 'Freelancer'."
   ]
  },
  {
   "cell_type": "code",
   "execution_count": 293,
   "id": "0b527ee7",
   "metadata": {},
   "outputs": [
    {
     "data": {
      "text/plain": [
       "Occupation\n",
       "Freelancer       7062\n",
       "Lawyer           6575\n",
       "Architect        6355\n",
       "Engineer         6350\n",
       "Scientist        6299\n",
       "Mechanic         6291\n",
       "Accountant       6271\n",
       "Developer        6235\n",
       "Media_Manager    6232\n",
       "Teacher          6215\n",
       "Entrepreneur     6174\n",
       "Doctor           6087\n",
       "Journalist       6085\n",
       "Manager          5973\n",
       "Musician         5911\n",
       "Writer           5885\n",
       "Name: count, dtype: int64"
      ]
     },
     "execution_count": 293,
     "metadata": {},
     "output_type": "execute_result"
    }
   ],
   "source": [
    "df['Occupation'] = df['Occupation'].replace('_______', 'Freelancer')\n",
    "df['Occupation'].value_counts()"
   ]
  },
  {
   "cell_type": "markdown",
   "id": "9e3a843a",
   "metadata": {},
   "source": [
    "- Plotting the distribution of 'Occupation' column with respect to 'Credit_Score' column."
   ]
  },
  {
   "cell_type": "code",
   "execution_count": 294,
   "id": "cb5a768a",
   "metadata": {},
   "outputs": [
    {
     "data": {
      "image/png": "[encoded data removed]",
      "text/plain": [
       "<Figure size 1200x600 with 1 Axes>"
      ]
     },
     "metadata": {},
     "output_type": "display_data"
    }
   ],
   "source": [
    "plt.figure(figsize=(12,6))\n",
    "sns.countplot(data=df, x='Occupation', hue='Credit_Score')\n",
    "plt.xticks(rotation=45)\n",
    "plt.title('Distribution of Occupation with respect to Credit Score', fontdict={'size':16, 'weight':'bold'})\n",
    "plt.ylabel('Count', fontdict={'size':14})\n",
    "plt.xlabel('Occupation', fontdict={'size':14})\n",
    "plt.show()"
   ]
  },
  {
   "cell_type": "markdown",
   "id": "73bad6a4",
   "metadata": {},
   "source": [
    "- From the visualization, we can see the changing the unknown values in Occupation column to 'Freelancer' does not affect the distribution of 'Credit_Score' column and blends in well with the rest.\n",
    "- We also see that Occupation column has some correlation with the target variable 'Credit_Score' so we keep the column."
   ]
  },
  {
   "cell_type": "code",
   "execution_count": 295,
   "id": "ceb56001",
   "metadata": {},
   "outputs": [
    {
     "data": {
      "text/plain": [
       "Occupation_Encoded\n",
       "6     7062\n",
       "8     6575\n",
       "1     6355\n",
       "4     6350\n",
       "13    6299\n",
       "10    6291\n",
       "0     6271\n",
       "2     6235\n",
       "11    6232\n",
       "14    6215\n",
       "5     6174\n",
       "3     6087\n",
       "7     6085\n",
       "9     5973\n",
       "12    5911\n",
       "15    5885\n",
       "Name: count, dtype: int64"
      ]
     },
     "execution_count": 295,
     "metadata": {},
     "output_type": "execute_result"
    }
   ],
   "source": [
    "Le = LabelEncoder()\n",
    "df['Occupation_Encoded'] = Le.fit_transform(df['Occupation'])\n",
    "df.drop('Occupation', axis=1, inplace=True)\n",
    "df['Occupation_Encoded'].value_counts()"
   ]
  },
  {
   "cell_type": "markdown",
   "id": "91cf2b31",
   "metadata": {},
   "source": [
    "# 4.7. Dropping the columns that are not relevant 1"
   ]
  },
  {
   "cell_type": "markdown",
   "id": "dc1be54c",
   "metadata": {},
   "source": [
    "- We drop the columns that are not relevant."
   ]
  },
  {
   "cell_type": "code",
   "execution_count": 296,
   "id": "b9a19755",
   "metadata": {},
   "outputs": [
    {
     "name": "stdout",
     "output_type": "stream",
     "text": [
      "<class 'pandas.core.frame.DataFrame'>\n",
      "RangeIndex: 100000 entries, 0 to 99999\n",
      "Data columns (total 28 columns):\n",
      " #   Column                    Non-Null Count   Dtype  \n",
      "---  ------                    --------------   -----  \n",
      " 0   ID                        100000 non-null  int64  \n",
      " 1   Customer_ID               100000 non-null  object \n",
      " 2   Month                     100000 non-null  object \n",
      " 3   Name                      90015 non-null   object \n",
      " 4   Age                       100000 non-null  object \n",
      " 5   SSN                       100000 non-null  object \n",
      " 6   Annual_Income             100000 non-null  object \n",
      " 7   Monthly_Inhand_Salary     84998 non-null   float64\n",
      " 8   Num_Bank_Accounts         100000 non-null  int64  \n",
      " 9   Num_Credit_Card           100000 non-null  int64  \n",
      " 10  Interest_Rate             100000 non-null  int64  \n",
      " 11  Num_of_Loan               100000 non-null  object \n",
      " 12  Type_of_Loan              88592 non-null   object \n",
      " 13  Delay_from_due_date       100000 non-null  int64  \n",
      " 14  Num_of_Delayed_Payment    92998 non-null   object \n",
      " 15  Changed_Credit_Limit      100000 non-null  object \n",
      " 16  Num_Credit_Inquiries      98035 non-null   float64\n",
      " 17  Credit_Mix                100000 non-null  object \n",
      " 18  Outstanding_Debt          100000 non-null  object \n",
      " 19  Credit_Utilization_Ratio  100000 non-null  float64\n",
      " 20  Credit_History_Age        90970 non-null   object \n",
      " 21  Payment_of_Min_Amount     100000 non-null  object \n",
      " 22  Total_EMI_per_month       100000 non-null  float64\n",
      " 23  Amount_invested_monthly   95521 non-null   object \n",
      " 24  Payment_Behaviour         100000 non-null  object \n",
      " 25  Monthly_Balance           98800 non-null   object \n",
      " 26  Credit_Score              100000 non-null  object \n",
      " 27  Occupation_Encoded        100000 non-null  int64  \n",
      "dtypes: float64(4), int64(6), object(18)\n",
      "memory usage: 21.4+ MB\n"
     ]
    }
   ],
   "source": [
    "df.info()"
   ]
  },
  {
   "cell_type": "code",
   "execution_count": 297,
   "id": "c201f909",
   "metadata": {},
   "outputs": [
    {
     "name": "stdout",
     "output_type": "stream",
     "text": [
      "<class 'pandas.core.frame.DataFrame'>\n",
      "RangeIndex: 100000 entries, 0 to 99999\n",
      "Data columns (total 23 columns):\n",
      " #   Column                    Non-Null Count   Dtype  \n",
      "---  ------                    --------------   -----  \n",
      " 0   ID                        100000 non-null  int64  \n",
      " 1   Annual_Income             100000 non-null  object \n",
      " 2   Monthly_Inhand_Salary     84998 non-null   float64\n",
      " 3   Num_Bank_Accounts         100000 non-null  int64  \n",
      " 4   Num_Credit_Card           100000 non-null  int64  \n",
      " 5   Interest_Rate             100000 non-null  int64  \n",
      " 6   Num_of_Loan               100000 non-null  object \n",
      " 7   Type_of_Loan              88592 non-null   object \n",
      " 8   Delay_from_due_date       100000 non-null  int64  \n",
      " 9   Num_of_Delayed_Payment    92998 non-null   object \n",
      " 10  Changed_Credit_Limit      100000 non-null  object \n",
      " 11  Num_Credit_Inquiries      98035 non-null   float64\n",
      " 12  Credit_Mix                100000 non-null  object \n",
      " 13  Outstanding_Debt          100000 non-null  object \n",
      " 14  Credit_Utilization_Ratio  100000 non-null  float64\n",
      " 15  Credit_History_Age        90970 non-null   object \n",
      " 16  Payment_of_Min_Amount     100000 non-null  object \n",
      " 17  Total_EMI_per_month       100000 non-null  float64\n",
      " 18  Amount_invested_monthly   95521 non-null   object \n",
      " 19  Payment_Behaviour         100000 non-null  object \n",
      " 20  Monthly_Balance           98800 non-null   object \n",
      " 21  Credit_Score              100000 non-null  object \n",
      " 22  Occupation_Encoded        100000 non-null  int64  \n",
      "dtypes: float64(4), int64(6), object(13)\n",
      "memory usage: 17.5+ MB\n"
     ]
    }
   ],
   "source": [
    "cols_to_drop1 = ['Customer_ID', 'Name', 'Age', 'Month', 'SSN']\n",
    "df.drop(columns=cols_to_drop1, inplace=True)\n",
    "df.info()"
   ]
  },
  {
   "cell_type": "markdown",
   "id": "9d2ff64e",
   "metadata": {},
   "source": [
    "# 4.8. Analyzing the Annual Income column"
   ]
  },
  {
   "cell_type": "code",
   "execution_count": 298,
   "id": "4343130e",
   "metadata": {},
   "outputs": [
    {
     "data": {
      "text/plain": [
       "array(['19114.12', '34847.84', '34847.84_', ..., '20002.88', '39628.99',\n",
       "       '39628.99_'], dtype=object)"
      ]
     },
     "execution_count": 298,
     "metadata": {},
     "output_type": "execute_result"
    }
   ],
   "source": [
    "df['Annual_Income'].unique()"
   ]
  },
  {
   "cell_type": "markdown",
   "id": "b7b9d061",
   "metadata": {},
   "source": [
    "- Most of the Numbers in Annual Income have a trailing '_' which we need to remove."
   ]
  },
  {
   "cell_type": "code",
   "execution_count": 299,
   "id": "3d522c17",
   "metadata": {},
   "outputs": [
    {
     "data": {
      "text/plain": [
       "array([ 19114.12,  34847.84, 143162.64, ...,  37188.1 ,  20002.88,\n",
       "        39628.99])"
      ]
     },
     "execution_count": 299,
     "metadata": {},
     "output_type": "execute_result"
    }
   ],
   "source": [
    "df['Annual_Income'] = df['Annual_Income'].str.replace('_', '').astype(float)\n",
    "df['Annual_Income'].unique()"
   ]
  },
  {
   "cell_type": "code",
   "execution_count": 300,
   "id": "52f815a4",
   "metadata": {},
   "outputs": [],
   "source": [
    "df['Annual_Income'] = df['Annual_Income'].astype(float)"
   ]
  },
  {
   "cell_type": "markdown",
   "id": "47b580e1",
   "metadata": {},
   "source": [
    "- Removed the trailing '_' from Annual Income column and converted the column to float."
   ]
  },
  {
   "cell_type": "markdown",
   "id": "2c17ba36",
   "metadata": {},
   "source": [
    "# 4.9. Analyzing & Removing outliers in Monthly_Inhand_Salary Column"
   ]
  },
  {
   "cell_type": "code",
   "execution_count": 301,
   "id": "192a6d5f",
   "metadata": {},
   "outputs": [
    {
     "data": {
      "text/plain": [
       "np.int64(15002)"
      ]
     },
     "execution_count": 301,
     "metadata": {},
     "output_type": "execute_result"
    }
   ],
   "source": [
    "df['Monthly_Inhand_Salary'].isnull().sum()"
   ]
  },
  {
   "cell_type": "code",
   "execution_count": 302,
   "id": "cdcf0402",
   "metadata": {},
   "outputs": [
    {
     "data": {
      "text/plain": [
       "np.int64(0)"
      ]
     },
     "execution_count": 302,
     "metadata": {},
     "output_type": "execute_result"
    }
   ],
   "source": [
    "df['Monthly_Inhand_Salary'] = df['Monthly_Inhand_Salary'].fillna(df['Monthly_Inhand_Salary'].median())\n",
    "df['Monthly_Inhand_Salary'].isnull().sum()"
   ]
  },
  {
   "cell_type": "code",
   "execution_count": 303,
   "id": "7e1deea0",
   "metadata": {},
   "outputs": [
    {
     "data": {
      "image/png": "[encoded data removed]",
      "text/plain": [
       "<Figure size 1200x600 with 1 Axes>"
      ]
     },
     "metadata": {},
     "output_type": "display_data"
    }
   ],
   "source": [
    "plt.figure(figsize=(12,6))\n",
    "sns.boxplot(data=df, x='Monthly_Inhand_Salary', hue='Credit_Score', palette='Set2')\n",
    "plt.title('Boxplot of Monthly Inhand Salary with respect to Credit Score', fontdict={'size':16, 'weight':'bold'})\n",
    "plt.xlabel('Monthly Inhand Salary', fontdict={'size':14})\n",
    "plt.ylabel('Count', fontdict={'size':14})\n",
    "plt.show()"
   ]
  },
  {
   "cell_type": "markdown",
   "id": "9ee7d761",
   "metadata": {},
   "source": [
    "- Removing all extreme outliers using the winsorize method"
   ]
  },
  {
   "cell_type": "code",
   "execution_count": 304,
   "id": "4d53916c",
   "metadata": {},
   "outputs": [
    {
     "name": "stdout",
     "output_type": "stream",
     "text": [
      "Original data stats:\n",
      "count    100000.000000\n",
      "mean       4029.084964\n",
      "std        2961.363540\n",
      "min         303.645417\n",
      "25%        1792.084167\n",
      "50%        3093.745000\n",
      "75%        5371.525000\n",
      "max       15204.633333\n",
      "Name: Monthly_Inhand_Salary, dtype: float64\n",
      "\n",
      "After winsorizing stats:\n",
      "count    100000.000000\n",
      "mean       3946.635251\n",
      "std        2714.753697\n",
      "min         706.119583\n",
      "25%        1792.084167\n",
      "50%        3093.745000\n",
      "75%        5371.525000\n",
      "max       12080.516667\n",
      "Name: Monthly_Inhand_Salary_Winsorized, dtype: float64\n"
     ]
    },
    {
     "data": {
      "image/png": "[encoded data removed]",
      "text/plain": [
       "<Figure size 1200x500 with 2 Axes>"
      ]
     },
     "metadata": {},
     "output_type": "display_data"
    }
   ],
   "source": [
    "# Winsorize within each credit score group\n",
    "df['Monthly_Inhand_Salary_Winsorized'] = df.groupby('Credit_Score')['Monthly_Inhand_Salary'].transform(\n",
    "    lambda x: winsorize(x, limits=[0.05, 0.05])  # Adjust limits as needed\n",
    ")\n",
    "\n",
    "# Verify the results\n",
    "print(\"Original data stats:\")\n",
    "print(df['Monthly_Inhand_Salary'].describe())\n",
    "print(\"\\nAfter winsorizing stats:\")\n",
    "print(df['Monthly_Inhand_Salary_Winsorized'].describe())\n",
    "\n",
    "# Visual comparison\n",
    "plt.figure(figsize=(12, 5))\n",
    "\n",
    "plt.subplot(1, 2, 1)\n",
    "sns.boxplot(x='Credit_Score', y='Monthly_Inhand_Salary', data=df)\n",
    "plt.title('Original Data with Outliers')\n",
    "\n",
    "plt.subplot(1, 2, 2)\n",
    "sns.boxplot(x='Credit_Score', y='Monthly_Inhand_Salary_Winsorized', data=df)\n",
    "plt.title('After Winsorizing')\n",
    "\n",
    "plt.tight_layout()\n",
    "plt.show()"
   ]
  },
  {
   "cell_type": "code",
   "execution_count": 305,
   "id": "693164c9",
   "metadata": {},
   "outputs": [],
   "source": [
    "# Drop the original column\n",
    "df.drop('Monthly_Inhand_Salary', axis=1, inplace=True)"
   ]
  },
  {
   "cell_type": "markdown",
   "id": "b4ae85fb",
   "metadata": {},
   "source": [
    "# 4.10. Number of Bank Accounts"
   ]
  },
  {
   "cell_type": "code",
   "execution_count": 306,
   "id": "4329b82a",
   "metadata": {},
   "outputs": [
    {
     "data": {
      "text/plain": [
       "np.int64(0)"
      ]
     },
     "execution_count": 306,
     "metadata": {},
     "output_type": "execute_result"
    }
   ],
   "source": [
    "df['Num_Bank_Accounts'].isnull().sum()"
   ]
  },
  {
   "cell_type": "code",
   "execution_count": 307,
   "id": "d369508e",
   "metadata": {},
   "outputs": [
    {
     "data": {
      "text/plain": [
       "array([   3,    2,    1,    7,    4,    0,    8,    5,    6,    9,   10,\n",
       "       1414, 1231,   67,  572, 1488,   91,  528, 1647, 1696, 1338,  649,\n",
       "        889, 1668,  685,  857,  975, 1496, 1534, 1620,   37, 1388, 1429,\n",
       "       1332, 1588,  120, 1777, 1096,  803,  494,  744, 1139,  831, 1613,\n",
       "        741,  121,  665, 1748, 1644,  823, 1356, 1651,   87,  711,  450,\n",
       "        210, 1671, 1722,  648,  672, 1662, 1495,  510,  666,  429, 1131,\n",
       "       1434,  980, 1026,  526,  718, 1300, 1312, 1315,  501, 1566,  480,\n",
       "       1042,  322,  628, 1016,  333, 1265,  791,  427,  563,  905, 1190,\n",
       "       1036, 1611,   38,  619,  555, 1769,  280,  752, 1201,  812, 1487,\n",
       "        222,  212, 1019, 1222,  610, 1714, 1308,  525, 1158, 1115, 1616,\n",
       "        754, 1601,  797, 1577,  521,  703,  933,  959,  809, 1089, 1656,\n",
       "       1113, 1715,  964, 1533, 1789,  871,  434, 1295,  565, 1724,  603,\n",
       "        677,  541,  698, 1101,  464, 1539, 1462, 1011, 1257, 1727,   45,\n",
       "        244, 1266,  897,  535,  484,  331,  675,  826,  946, 1675,  105,\n",
       "       1327,  845,  549,  473,  710,  527,  908,   68, 1628,  371,  445,\n",
       "       1168,  868,  687,  455, 1003,   26, 1526,  618,  598,  351, 1342,\n",
       "       1783,  683, 1557, 1335,  416, 1747,  137, 1475,  373,  338,  942,\n",
       "        170,  973, 1605, 1478,  386, 1448, 1033, 1225,  596, 1731, 1214,\n",
       "       1481, 1105,  580,  347,  108,  148, 1001, 1467, 1114, 1000,  632,\n",
       "        246, 1032, 1394,  689,  482, 1303,  720,  574,  588, 1358,  650,\n",
       "        708,  179,  844, 1140,  335,   60,  732, 1494, 1436,  820,   28,\n",
       "       1576,  818,  794,  731,  534,  556,  691, 1197, 1155, 1255, 1763,\n",
       "        769, 1124,  819,  318, 1418,  882,   61,  264,  194, 1798,  611,\n",
       "        840,  505, 1110,  719, 1065,  195,  584,  550, 1014, 1022,  903,\n",
       "        976,   31,  417, 1423, 1148,  616,  786, 1424,   55, 1061, 1293,\n",
       "        342,   43, 1540,  488, 1122, 1274, 1075,  722, 1268,   41,  814,\n",
       "       1564, 1390, 1141,  497,  224, 1135,  441,  374,   74,  314, 1408,\n",
       "        475, 1015,  681, 1236,   59, 1425, 1637, 1240,  299, 1657, 1123,\n",
       "       1091, 1264, 1561, 1632, 1562,  305, 1318, 1217, 1699, 1070,  864,\n",
       "       1391,  112,  860,  595,  229, 1624, 1051,  821, 1794, 1565,  397,\n",
       "       1368, 1353,  508, 1725, 1413, 1239,  847, 1317,  570,   -1,  302,\n",
       "        456,  198,  122,  832,  167, 1547, 1666, 1241,  275,  566, 1779,\n",
       "        201,  334, 1169,  834, 1174, 1040,  530, 1676, 1468, 1093,  706,\n",
       "        489, 1592,  688,  830, 1784, 1543, 1600, 1178,  228,  483, 1501,\n",
       "        950,  548,  870, 1211,  604,  804,  129,  540, 1702, 1636, 1680,\n",
       "       1443, 1252,  499,  180,  702,  885, 1652,  795,  938,  833, 1654,\n",
       "       1793,  303, 1621, 1516, 1138,   32,  160, 1491,   83,  423,  928,\n",
       "        339,  931,  243, 1756,  583, 1695,  274,  955,  430, 1247,  490,\n",
       "        726,  987,   42, 1626, 1470, 1739,  887,  211,  385, 1221,  753,\n",
       "        324,  406, 1677, 1567,  785,  182, 1079,  184, 1771, 1048, 1069,\n",
       "        561,  589, 1634,   70, 1371,  647, 1153,  239,  801, 1279, 1287,\n",
       "        425, 1589,  929, 1511, 1765, 1047, 1005, 1337,  981, 1766,  805,\n",
       "       1574, 1638,  186,   99,  288, 1650,  974,  996, 1595, 1594,  865,\n",
       "        203, 1440,  448,  285,   94,  875,  916, 1733,  240,  330,   79,\n",
       "         82,  135, 1043,  142, 1235, 1569, 1741, 1461,  560, 1551,  409,\n",
       "        418, 1017,  892,  354,  124,  935,  313, 1363,  232, 1200, 1184,\n",
       "       1432, 1479, 1407, 1080, 1719, 1024,  970,  761,  158,  312, 1060,\n",
       "        684,  696, 1520, 1352, 1502,  936,  485,  350, 1560, 1166, 1013,\n",
       "         34, 1691,  715, 1570, 1751, 1503, 1194, 1558,  411,  298,  260,\n",
       "        308,  796, 1442,  912, 1256,  746,  435,  620, 1774, 1181, 1323,\n",
       "        837,  307, 1430,   53, 1447,  259,  921,  328, 1034,  353,  822,\n",
       "        654,  829,  609,  166,  136,  172, 1306, 1028,  808,  270, 1072,\n",
       "        514,  156, 1331, 1630,  462, 1310, 1210,  265,   50, 1355,  394,\n",
       "       1393,  226,  991,  368, 1018, 1037,  627, 1744,  523,  894,  944,\n",
       "       1730, 1076, 1094, 1617,  449,  678, 1164,   30,  817, 1568,  607,\n",
       "        709, 1230,  606, 1480,   29, 1522, 1670,   49,  626, 1641, 1712,\n",
       "       1370, 1782,  119, 1137, 1277,   35,  947,  851, 1041, 1583, 1536,\n",
       "        575,  196,  143,   33,  383,   57,  621,  230,  162,  352, 1504,\n",
       "       1250,   39,  511, 1364,  918, 1665,  734, 1320,  316,  771,  705,\n",
       "       1435,  304,  116, 1553,  424,  493, 1530, 1195, 1604,  624, 1599,\n",
       "        782, 1606, 1622, 1285,  657, 1275, 1291, 1402,  420,  932,  468,\n",
       "        442, 1145,   93, 1218,  283,  292,  927, 1711, 1422,  364, 1398,\n",
       "        594,  789, 1350,  676,  216, 1012, 1426,  717, 1095, 1786,  850,\n",
       "        777,  375,  356,  701, 1325,  290, 1775,  467, 1365, 1549,  848,\n",
       "       1453,   84, 1458,  888,  770, 1591,  582,   40, 1261, 1764, 1067,\n",
       "        145,  471,  476, 1128,  967,  622,  641,  539,  858,  295, 1395,\n",
       "       1517, 1297, 1126,  926,  157, 1377,  993,  125,  340,  271, 1669,\n",
       "        272,  979,  707,  564,  997,  447, 1578, 1465,  415,  714, 1276,\n",
       "         18, 1316,  587,  245,  446,  978, 1002, 1631,  341, 1307,  524,\n",
       "       1267,  103,  242, 1378, 1328, 1294, 1309,  724,  197,  999,  547,\n",
       "       1100, 1456,   77, 1506, 1472,  460,   11, 1420,  218, 1253,  392,\n",
       "        670, 1321,  100, 1205,  443,   92,  811,  774,  159, 1770,  972,\n",
       "       1157, 1102,  217,  358, 1473,  440,  140, 1361,  481,  512, 1117,\n",
       "        300, 1263, 1581,  901, 1298,  310,  637,  758, 1734, 1288,  326,\n",
       "       1678, 1444, 1344, 1379,  828,  982,  104,  317, 1529, 1627,  115,\n",
       "        645, 1404,  940, 1305, 1049, 1645, 1466,  175, 1165, 1419, 1031,\n",
       "        581, 1580,  854,  725, 1655, 1134,  569, 1387, 1381, 1760,  360,\n",
       "       1735, 1146, 1411,  969, 1281,  591,  327,  466,  667,  147,  109,\n",
       "        784, 1396, 1349,  839, 1284,  802,   97,  281, 1382, 1039, 1483,\n",
       "        376, 1249, 1207, 1213, 1219, 1345, 1523,  949, 1063,  983,  886,\n",
       "       1151,  992, 1107, 1314,  151,   69, 1489,  695,  738,  444, 1525,\n",
       "        825,  506,  518, 1077, 1354,  713,  690,  861, 1389,  968,  421,\n",
       "        907,  205,  856,   72,  651,  161,  867,  971, 1078,   64, 1701,\n",
       "        546, 1216,   27, 1709,  193, 1528,  957,  577,  346, 1416,  396,\n",
       "       1182,  652, 1083, 1778,  680, 1754, 1544, 1703,  636,  472,  453,\n",
       "        463,   75,  756,  296,  891,  813,  474,  697])"
      ]
     },
     "execution_count": 307,
     "metadata": {},
     "output_type": "execute_result"
    }
   ],
   "source": [
    "df['Num_Bank_Accounts'].unique()"
   ]
  },
  {
   "cell_type": "code",
   "execution_count": 308,
   "id": "a695c39b",
   "metadata": {},
   "outputs": [
    {
     "name": "stdout",
     "output_type": "stream",
     "text": [
      "<class 'pandas.core.frame.DataFrame'>\n",
      "RangeIndex: 100000 entries, 0 to 99999\n",
      "Data columns (total 23 columns):\n",
      " #   Column                            Non-Null Count   Dtype  \n",
      "---  ------                            --------------   -----  \n",
      " 0   ID                                100000 non-null  int64  \n",
      " 1   Annual_Income                     100000 non-null  float64\n",
      " 2   Num_Bank_Accounts                 100000 non-null  int64  \n",
      " 3   Num_Credit_Card                   100000 non-null  int64  \n",
      " 4   Interest_Rate                     100000 non-null  int64  \n",
      " 5   Num_of_Loan                       100000 non-null  object \n",
      " 6   Type_of_Loan                      88592 non-null   object \n",
      " 7   Delay_from_due_date               100000 non-null  int64  \n",
      " 8   Num_of_Delayed_Payment            92998 non-null   object \n",
      " 9   Changed_Credit_Limit              100000 non-null  object \n",
      " 10  Num_Credit_Inquiries              98035 non-null   float64\n",
      " 11  Credit_Mix                        100000 non-null  object \n",
      " 12  Outstanding_Debt                  100000 non-null  object \n",
      " 13  Credit_Utilization_Ratio          100000 non-null  float64\n",
      " 14  Credit_History_Age                90970 non-null   object \n",
      " 15  Payment_of_Min_Amount             100000 non-null  object \n",
      " 16  Total_EMI_per_month               100000 non-null  float64\n",
      " 17  Amount_invested_monthly           95521 non-null   object \n",
      " 18  Payment_Behaviour                 100000 non-null  object \n",
      " 19  Monthly_Balance                   98800 non-null   object \n",
      " 20  Credit_Score                      100000 non-null  object \n",
      " 21  Occupation_Encoded                100000 non-null  int64  \n",
      " 22  Monthly_Inhand_Salary_Winsorized  100000 non-null  float64\n",
      "dtypes: float64(5), int64(6), object(12)\n",
      "memory usage: 17.5+ MB\n"
     ]
    }
   ],
   "source": [
    "df.info()"
   ]
  },
  {
   "cell_type": "markdown",
   "id": "bba03d63",
   "metadata": {},
   "source": [
    "# 4.11. Analyzing Number of loan and type of loan columns"
   ]
  },
  {
   "cell_type": "code",
   "execution_count": 309,
   "id": "67d12a58",
   "metadata": {},
   "outputs": [
    {
     "data": {
      "text/plain": [
       "array(['4', '1', '3', '967', '-100', '0', '0_', '2', '3_', '2_', '7', '5',\n",
       "       '5_', '6', '8', '8_', '9', '9_', '4_', '7_', '1_', '1464', '6_',\n",
       "       '622', '352', '472', '1017', '945', '146', '563', '341', '444',\n",
       "       '720', '1485', '49', '737', '1106', '466', '728', '313', '843',\n",
       "       '597_', '617', '119', '663', '640', '92_', '1019', '501', '1302',\n",
       "       '39', '716', '848', '931', '1214', '186', '424', '1001', '1110',\n",
       "       '1152', '457', '1433', '1187', '52', '1480', '1047', '1035',\n",
       "       '1347_', '33', '193', '699', '329', '1451', '484', '132', '649',\n",
       "       '995', '545', '684', '1135', '1094', '1204', '654', '58', '348',\n",
       "       '614', '1363', '323', '1406', '1348', '430', '153', '1461', '905',\n",
       "       '1312', '1424', '1154', '95', '1353', '1228', '819', '1006', '795',\n",
       "       '359', '1209', '590', '696', '1185_', '1465', '911', '1181', '70',\n",
       "       '816', '1369', '143', '1416', '455', '55', '1096', '1474', '420',\n",
       "       '1131', '904', '89', '1259', '527', '1241', '449', '983', '418',\n",
       "       '319', '23', '238', '638', '138', '235_', '280', '1070', '1484',\n",
       "       '274', '494', '1459_', '404', '1354', '1495', '1391', '601',\n",
       "       '1313', '1319', '898', '231', '752', '174', '961', '1046', '834',\n",
       "       '284', '438', '288', '1463', '1151', '719', '198', '1015', '855',\n",
       "       '841', '392', '1444', '103', '1320_', '745', '172', '252', '630_',\n",
       "       '241', '31', '405', '1217', '1030', '1257', '137', '157', '164',\n",
       "       '1088', '1236', '777', '1048', '613', '330', '1439', '321', '661',\n",
       "       '952', '939', '562', '1202', '302', '943', '394', '955', '1318',\n",
       "       '936', '781', '100', '1329', '1365', '860', '217', '191', '32',\n",
       "       '282', '351', '1387', '757', '416', '833', '359_', '292', '1225_',\n",
       "       '1227', '639', '859', '243', '267', '510', '332', '996', '597',\n",
       "       '311', '492', '820', '336', '123', '540', '131_', '1311_', '1441',\n",
       "       '895', '891', '50', '940', '935', '596', '29', '1182', '1129_',\n",
       "       '1014', '251', '365', '291', '1447', '742', '1085', '148', '462',\n",
       "       '832', '881', '1225', '1412', '785_', '1127', '910', '538', '999',\n",
       "       '733', '101', '237', '87', '659', '633', '387', '447', '629',\n",
       "       '831', '1384', '773', '621', '1419', '289', '143_', '285', '1393',\n",
       "       '1131_', '27_', '1359', '1482', '1189', '1294', '201', '579',\n",
       "       '814', '141', '1320', '581', '1171_', '295', '290', '433', '679',\n",
       "       '1040', '1054', '1430', '1023', '1077', '1457', '1150', '701',\n",
       "       '1382', '889', '437', '372', '1222', '126', '1159', '868', '19',\n",
       "       '1297', '227_', '190', '809', '1216', '1074', '571', '520', '1274',\n",
       "       '1340', '991', '316', '697', '926', '873', '1002', '378_', '65',\n",
       "       '875', '867', '548', '652', '1372', '606', '1036', '1300', '17',\n",
       "       '1178', '802', '1219_', '1271', '1137', '1496', '439', '196',\n",
       "       '636', '192', '228', '1053', '229', '753', '1296', '1371', '254',\n",
       "       '863', '464', '515', '838', '1160', '1289', '1298', '799', '182',\n",
       "       '574', '527_', '242', '415', '869', '958', '54', '1265', '656',\n",
       "       '275', '778', '208', '147', '350', '507', '463', '497', '1129',\n",
       "       '927', '653', '662', '529', '635', '1027_', '897', '1039', '227',\n",
       "       '1345', '924', '696_', '1279', '546', '1112', '1210', '526', '300',\n",
       "       '1103', '504', '136', '1400', '78', '686', '1091', '344', '215',\n",
       "       '84', '628', '1470', '968', '1478', '83', '1196', '1307', '1132_',\n",
       "       '1008', '917', '657', '56', '18', '41', '801', '978', '216', '349',\n",
       "       '966'], dtype=object)"
      ]
     },
     "execution_count": 309,
     "metadata": {},
     "output_type": "execute_result"
    }
   ],
   "source": [
    "df['Num_of_Loan'].unique()"
   ]
  },
  {
   "cell_type": "markdown",
   "id": "642776e4",
   "metadata": {},
   "source": [
    "- Num of loan column has a trailing \"_\" which we need to remove."
   ]
  },
  {
   "cell_type": "code",
   "execution_count": 310,
   "id": "21234329",
   "metadata": {},
   "outputs": [
    {
     "data": {
      "text/plain": [
       "array([   4,    1,    3,  967, -100,    0,    2,    7,    5,    6,    8,\n",
       "          9, 1464,  622,  352,  472, 1017,  945,  146,  563,  341,  444,\n",
       "        720, 1485,   49,  737, 1106,  466,  728,  313,  843,  597,  617,\n",
       "        119,  663,  640,   92, 1019,  501, 1302,   39,  716,  848,  931,\n",
       "       1214,  186,  424, 1001, 1110, 1152,  457, 1433, 1187,   52, 1480,\n",
       "       1047, 1035, 1347,   33,  193,  699,  329, 1451,  484,  132,  649,\n",
       "        995,  545,  684, 1135, 1094, 1204,  654,   58,  348,  614, 1363,\n",
       "        323, 1406, 1348,  430,  153, 1461,  905, 1312, 1424, 1154,   95,\n",
       "       1353, 1228,  819, 1006,  795,  359, 1209,  590,  696, 1185, 1465,\n",
       "        911, 1181,   70,  816, 1369,  143, 1416,  455,   55, 1096, 1474,\n",
       "        420, 1131,  904,   89, 1259,  527, 1241,  449,  983,  418,  319,\n",
       "         23,  238,  638,  138,  235,  280, 1070, 1484,  274,  494, 1459,\n",
       "        404, 1354, 1495, 1391,  601, 1313, 1319,  898,  231,  752,  174,\n",
       "        961, 1046,  834,  284,  438,  288, 1463, 1151,  719,  198, 1015,\n",
       "        855,  841,  392, 1444,  103, 1320,  745,  172,  252,  630,  241,\n",
       "         31,  405, 1217, 1030, 1257,  137,  157,  164, 1088, 1236,  777,\n",
       "       1048,  613,  330, 1439,  321,  661,  952,  939,  562, 1202,  302,\n",
       "        943,  394,  955, 1318,  936,  781,  100, 1329, 1365,  860,  217,\n",
       "        191,   32,  282,  351, 1387,  757,  416,  833,  292, 1225, 1227,\n",
       "        639,  859,  243,  267,  510,  332,  996,  311,  492,  820,  336,\n",
       "        123,  540,  131, 1311, 1441,  895,  891,   50,  940,  935,  596,\n",
       "         29, 1182, 1129, 1014,  251,  365,  291, 1447,  742, 1085,  148,\n",
       "        462,  832,  881, 1412,  785, 1127,  910,  538,  999,  733,  101,\n",
       "        237,   87,  659,  633,  387,  447,  629,  831, 1384,  773,  621,\n",
       "       1419,  289,  285, 1393,   27, 1359, 1482, 1189, 1294,  201,  579,\n",
       "        814,  141,  581, 1171,  295,  290,  433,  679, 1040, 1054, 1430,\n",
       "       1023, 1077, 1457, 1150,  701, 1382,  889,  437,  372, 1222,  126,\n",
       "       1159,  868,   19, 1297,  227,  190,  809, 1216, 1074,  571,  520,\n",
       "       1274, 1340,  991,  316,  697,  926,  873, 1002,  378,   65,  875,\n",
       "        867,  548,  652, 1372,  606, 1036, 1300,   17, 1178,  802, 1219,\n",
       "       1271, 1137, 1496,  439,  196,  636,  192,  228, 1053,  229,  753,\n",
       "       1296, 1371,  254,  863,  464,  515,  838, 1160, 1289, 1298,  799,\n",
       "        182,  574,  242,  415,  869,  958,   54, 1265,  656,  275,  778,\n",
       "        208,  147,  350,  507,  463,  497,  927,  653,  662,  529,  635,\n",
       "       1027,  897, 1039, 1345,  924, 1279,  546, 1112, 1210,  526,  300,\n",
       "       1103,  504,  136, 1400,   78,  686, 1091,  344,  215,   84,  628,\n",
       "       1470,  968, 1478,   83, 1196, 1307, 1132, 1008,  917,  657,   56,\n",
       "         18,   41,  801,  978,  216,  349,  966])"
      ]
     },
     "execution_count": 310,
     "metadata": {},
     "output_type": "execute_result"
    }
   ],
   "source": [
    "df['Num_of_Loan'] = df['Num_of_Loan'].str.replace('_', '').astype(int)\n",
    "df['Num_of_Loan'].unique()"
   ]
  },
  {
   "cell_type": "code",
   "execution_count": 311,
   "id": "3aad9e74",
   "metadata": {},
   "outputs": [
    {
     "data": {
      "text/plain": [
       "array(['Auto Loan, Credit-Builder Loan, Personal Loan, and Home Equity Loan',\n",
       "       'Credit-Builder Loan', 'Auto Loan, Auto Loan, and Not Specified',\n",
       "       ..., 'Home Equity Loan, Auto Loan, Auto Loan, and Auto Loan',\n",
       "       'Payday Loan, Student Loan, Mortgage Loan, and Not Specified',\n",
       "       'Personal Loan, Auto Loan, Mortgage Loan, Student Loan, and Student Loan'],\n",
       "      dtype=object)"
      ]
     },
     "execution_count": 311,
     "metadata": {},
     "output_type": "execute_result"
    }
   ],
   "source": [
    "df['Type_of_Loan'].unique()"
   ]
  },
  {
   "cell_type": "code",
   "execution_count": 312,
   "id": "a5ce05d0",
   "metadata": {},
   "outputs": [
    {
     "data": {
      "text/plain": [
       "Type_of_Loan\n",
       "Not Specified                                                                                        1408\n",
       "Credit-Builder Loan                                                                                  1280\n",
       "Personal Loan                                                                                        1272\n",
       "Debt Consolidation Loan                                                                              1264\n",
       "Student Loan                                                                                         1240\n",
       "                                                                                                     ... \n",
       "Auto Loan, Payday Loan, Auto Loan, Student Loan, Student Loan, Student Loan, and Home Equity Loan       8\n",
       "Home Equity Loan, Payday Loan, Not Specified, and Personal Loan                                         8\n",
       "Home Equity Loan, Auto Loan, Auto Loan, and Auto Loan                                                   8\n",
       "Payday Loan, Student Loan, Mortgage Loan, and Not Specified                                             8\n",
       "Personal Loan, Home Equity Loan, Payday Loan, Payday Loan, and Not Specified                            8\n",
       "Name: count, Length: 6260, dtype: int64"
      ]
     },
     "execution_count": 312,
     "metadata": {},
     "output_type": "execute_result"
    }
   ],
   "source": [
    "df['Type_of_Loan'].value_counts()"
   ]
  },
  {
   "cell_type": "code",
   "execution_count": 313,
   "id": "727c00e2",
   "metadata": {},
   "outputs": [
    {
     "name": "stdout",
     "output_type": "stream",
     "text": [
      "<class 'pandas.core.frame.DataFrame'>\n",
      "RangeIndex: 100000 entries, 0 to 99999\n",
      "Data columns (total 23 columns):\n",
      " #   Column                            Non-Null Count   Dtype  \n",
      "---  ------                            --------------   -----  \n",
      " 0   ID                                100000 non-null  int64  \n",
      " 1   Annual_Income                     100000 non-null  float64\n",
      " 2   Num_Bank_Accounts                 100000 non-null  int64  \n",
      " 3   Num_Credit_Card                   100000 non-null  int64  \n",
      " 4   Interest_Rate                     100000 non-null  int64  \n",
      " 5   Num_of_Loan                       100000 non-null  int64  \n",
      " 6   Type_of_Loan                      88592 non-null   object \n",
      " 7   Delay_from_due_date               100000 non-null  int64  \n",
      " 8   Num_of_Delayed_Payment            92998 non-null   object \n",
      " 9   Changed_Credit_Limit              100000 non-null  object \n",
      " 10  Num_Credit_Inquiries              98035 non-null   float64\n",
      " 11  Credit_Mix                        100000 non-null  object \n",
      " 12  Outstanding_Debt                  100000 non-null  object \n",
      " 13  Credit_Utilization_Ratio          100000 non-null  float64\n",
      " 14  Credit_History_Age                90970 non-null   object \n",
      " 15  Payment_of_Min_Amount             100000 non-null  object \n",
      " 16  Total_EMI_per_month               100000 non-null  float64\n",
      " 17  Amount_invested_monthly           95521 non-null   object \n",
      " 18  Payment_Behaviour                 100000 non-null  object \n",
      " 19  Monthly_Balance                   98800 non-null   object \n",
      " 20  Credit_Score                      100000 non-null  object \n",
      " 21  Occupation_Encoded                100000 non-null  int64  \n",
      " 22  Monthly_Inhand_Salary_Winsorized  100000 non-null  float64\n",
      "dtypes: float64(5), int64(7), object(11)\n",
      "memory usage: 17.5+ MB\n"
     ]
    }
   ],
   "source": [
    "df.info()"
   ]
  },
  {
   "cell_type": "markdown",
   "id": "0a6d6479",
   "metadata": {},
   "source": [
    "- Drop type of loan for now."
   ]
  },
  {
   "cell_type": "code",
   "execution_count": 314,
   "id": "cb367be1",
   "metadata": {},
   "outputs": [
    {
     "name": "stdout",
     "output_type": "stream",
     "text": [
      "<class 'pandas.core.frame.DataFrame'>\n",
      "RangeIndex: 100000 entries, 0 to 99999\n",
      "Data columns (total 22 columns):\n",
      " #   Column                            Non-Null Count   Dtype  \n",
      "---  ------                            --------------   -----  \n",
      " 0   ID                                100000 non-null  int64  \n",
      " 1   Annual_Income                     100000 non-null  float64\n",
      " 2   Num_Bank_Accounts                 100000 non-null  int64  \n",
      " 3   Num_Credit_Card                   100000 non-null  int64  \n",
      " 4   Interest_Rate                     100000 non-null  int64  \n",
      " 5   Num_of_Loan                       100000 non-null  int64  \n",
      " 6   Delay_from_due_date               100000 non-null  int64  \n",
      " 7   Num_of_Delayed_Payment            92998 non-null   object \n",
      " 8   Changed_Credit_Limit              100000 non-null  object \n",
      " 9   Num_Credit_Inquiries              98035 non-null   float64\n",
      " 10  Credit_Mix                        100000 non-null  object \n",
      " 11  Outstanding_Debt                  100000 non-null  object \n",
      " 12  Credit_Utilization_Ratio          100000 non-null  float64\n",
      " 13  Credit_History_Age                90970 non-null   object \n",
      " 14  Payment_of_Min_Amount             100000 non-null  object \n",
      " 15  Total_EMI_per_month               100000 non-null  float64\n",
      " 16  Amount_invested_monthly           95521 non-null   object \n",
      " 17  Payment_Behaviour                 100000 non-null  object \n",
      " 18  Monthly_Balance                   98800 non-null   object \n",
      " 19  Credit_Score                      100000 non-null  object \n",
      " 20  Occupation_Encoded                100000 non-null  int64  \n",
      " 21  Monthly_Inhand_Salary_Winsorized  100000 non-null  float64\n",
      "dtypes: float64(5), int64(7), object(10)\n",
      "memory usage: 16.8+ MB\n"
     ]
    }
   ],
   "source": [
    "df.drop(columns=['Type_of_Loan'], inplace=True)\n",
    "df.info()"
   ]
  },
  {
   "cell_type": "markdown",
   "id": "4d818af1",
   "metadata": {},
   "source": [
    "# 4.12. Num of Delayed payment"
   ]
  },
  {
   "cell_type": "code",
   "execution_count": 315,
   "id": "007ca5a8",
   "metadata": {},
   "outputs": [
    {
     "data": {
      "text/plain": [
       "np.int64(7002)"
      ]
     },
     "execution_count": 315,
     "metadata": {},
     "output_type": "execute_result"
    }
   ],
   "source": [
    "df['Num_of_Delayed_Payment'].isnull().sum()"
   ]
  },
  {
   "cell_type": "code",
   "execution_count": 316,
   "id": "5bd4db5d",
   "metadata": {},
   "outputs": [
    {
     "data": {
      "text/plain": [
       "array(['7', nan, '4', '8_', '6', '1', '-1', '3_', '0', '8', '5', '3', '9',\n",
       "       '12', '15', '17', '10', '2', '2_', '11', '14', '20', '22', '13',\n",
       "       '13_', '14_', '16', '12_', '18', '19', '23', '24', '21', '3318',\n",
       "       '3083', '22_', '1338', '4_', '26', '11_', '3104', '21_', '25',\n",
       "       '10_', '183_', '9_', '1106', '834', '19_', '24_', '17_', '23_',\n",
       "       '2672', '20_', '2008', '-3', '538', '6_', '1_', '16_', '27', '-2',\n",
       "       '3478', '2420', '15_', '707', '708', '26_', '18_', '3815', '28',\n",
       "       '5_', '1867', '2250', '1463', '25_', '7_', '4126', '2882', '1941',\n",
       "       '2655', '2628', '132', '3069', '306', '0_', '3539', '3684', '1823',\n",
       "       '4128', '1946', '827', '2297', '2566', '904', '182', '929', '3568',\n",
       "       '2503', '1552', '2812', '1697', '3764', '851', '3905', '923', '88',\n",
       "       '1668', '3253', '808', '2689', '3858', '642', '3457', '1402',\n",
       "       '1732', '3154', '847', '3037', '2204', '3103', '1063', '2056',\n",
       "       '1282', '1841', '2569_', '211', '793', '3484', '411', '3491',\n",
       "       '2072', '3050', '1049', '2162', '3402', '2753', '27_', '1718',\n",
       "       '1014', '3260', '3855', '84', '2311', '3251', '1832', '4069',\n",
       "       '3010', '733', '4241', '166', '2461', '1749', '3200', '663_',\n",
       "       '2185', '4161', '3009', '359', '2015', '1523', '594', '1079',\n",
       "       '1199', '186', '1015', '1989', '281', '559', '2165', '1509',\n",
       "       '3545', '779', '192', '4311', '-2_', '2323', '1471', '1538',\n",
       "       '3529', '439', '3456', '3040', '2697', '3179', '1332', '3175',\n",
       "       '3112', '829', '4022', '3870', '4023', '531', '1511', '3092',\n",
       "       '3191', '2400', '3621', '3536', '544', '1864', '28_', '142',\n",
       "       '2300', '264', '72', '497', '398', '2222', '3960', '1473', '3043',\n",
       "       '4216', '2903', '2658', '-1_', '4042', '1323_', '2184', '921',\n",
       "       '1328', '3404', '2438', '809', '47', '1996', '4164', '1370',\n",
       "       '1204', '2167', '4011', '2590', '2594', '2533', '1663', '1018',\n",
       "       '2919', '3458', '3316', '2589', '2801', '3355', '2529', '2488',\n",
       "       '4266', '1243', '739', '845', '4107', '1884', '337', '2660', '290',\n",
       "       '674', '2450', '3738', '1792', '2823', '2570', '775', '960', '482',\n",
       "       '1706', '2493', '3623', '3031', '2794_', '2219_', '758_', '1849',\n",
       "       '3559', '4096', '3726', '1953', '2657', '4043', '2938', '4384',\n",
       "       '1647', '2694', '3533', '519', '2677', '2413', '-3_', '4139',\n",
       "       '2609', '4326', '4211', '823', '3011', '1608', '2860', '4219',\n",
       "       '4047', '1531', '742', '52', '4024', '1673', '49', '2243', '1685',\n",
       "       '1869', '2587', '3489', '749', '1164', '2616', '848_', '4134',\n",
       "       '1530', '1502', '4075', '3845', '1060', '2573', '2128', '328',\n",
       "       '640', '2585', '2230', '1795', '1180', '1534', '3739', '3313',\n",
       "       '4191', '996', '372', '3340', '3177', '602', '787', '4135', '3878',\n",
       "       '4059', '1218', '4051', '1766', '1359', '3107', '585', '1263',\n",
       "       '2511', '709', '3632', '4077', '2943', '2793', '3245', '2317',\n",
       "       '1640', '2237_', '3819', '252', '3978', '1498', '1833', '2737',\n",
       "       '1192', '1481', '700', '271', '2286', '273', '1215', '3944',\n",
       "       '2070', '1478', '3749', '871', '2508', '2959', '130', '294',\n",
       "       '3097_', '3511', '415', '2196', '2138', '2149', '1874', '1553',\n",
       "       '3847', '3222', '1222', '2907', '3051', '98', '1598', '416',\n",
       "       '2314', '2955', '1691', '1450', '2021', '1636', '80', '3708',\n",
       "       '195', '320', '2945', '1911', '3416', '3796', '4159', '2255',\n",
       "       '938', '4397', '3776', '2148', '1994', '853', '1178', '1633',\n",
       "       '196', '3864', '714', '1687', '1034', '468', '1337', '2044',\n",
       "       '1541', '3661', '1211', '2645', '2007', '102', '1891', '3162',\n",
       "       '3142', '2566_', '2766', '3881', '2728', '2671', '1952', '3580',\n",
       "       '2705', '4251', '3840_', '972', '3119', '3502', '4185', '2954',\n",
       "       '683', '1614', '1572', '4302', '3447', '1852', '2131', '1900',\n",
       "       '1699', '133', '2018', '2127', '508', '210', '577', '1664', '2604',\n",
       "       '1411', '2351', '867', '1371', '2352', '1191', '905', '4053',\n",
       "       '3869', '933', '3660', '3300', '3629', '3208', '2142', '2521',\n",
       "       '450', '583', '876', '121', '3919', '2560', '2578', '2060', '813',\n",
       "       '1236', '1489', '4360', '1154', '2544', '4172', '2924', '426',\n",
       "       '4270', '2768', '3909', '3951', '2712', '2498', '3171', '1750',\n",
       "       '197', '2569', '265', '4293', '887', '2707', '2397', '4337',\n",
       "       '4249', '2751', '2950', '1859', '107', '2348', '2506', '2810',\n",
       "       '2873', '1301', '2262', '1890', '3078', '3865', '3268', '2777',\n",
       "       '3105', '1278', '3793', '2276', '2879', '4298', '2141', '223',\n",
       "       '2239', '846', '1862', '2756', '1181', '1184', '2617', '3972',\n",
       "       '2334', '3900', '2759', '4169', '2280', '2492', '2729', '3750',\n",
       "       '1825', '309', '2431', '3099', '2080', '2279', '2666', '3722',\n",
       "       '1976', '529', '1985', '3060', '4278', '3212', '46', '3148',\n",
       "       '3467', '4231', '3790', '473', '1536', '3955', '2324', '2381',\n",
       "       '1177', '371', '2896', '3880', '2991', '4319', '1061', '662',\n",
       "       '4144', '693', '2006', '3115', '2278_', '3751', '1861', '4262',\n",
       "       '2913', '2615', '3492', '800', '3766', '384', '3407', '1087',\n",
       "       '3329', '1086', '2216', '1087_', '2457', '3522', '3274', '3488',\n",
       "       '2854', '238', '351', '3706', '4280', '4095', '2926', '1329',\n",
       "       '3370', '283', '1392', '1743', '2429', '974', '3156', '1133',\n",
       "       '4388', '3243', '4282', '2523', '4281', '3415', '2001', '441',\n",
       "       '94', '3499', '969', '3368', '106', '1004', '2638', '3946', '2956',\n",
       "       '4324', '85', '4113', '819', '615', '1172', '2553', '1765', '3495',\n",
       "       '2820', '4239', '4340', '1295_', '2636', '4295', '1653', '1325',\n",
       "       '1879', '1096', '1735', '3584', '1073', '1975', '3827', '2552',\n",
       "       '3754', '2378', '532', '926', '2376', '3636', '3763', '778',\n",
       "       '2621', '804', '754', '2418', '4019', '3926', '3861_', '3574',\n",
       "       '175', '162', '2834', '3765', '2354', '523', '2274', '1606',\n",
       "       '1443', '1354', '2142_', '1422', '2278', '1045', '4106', '3155',\n",
       "       '666', '659', '3229', '1216', '2076', '1473_', '2384', '1954',\n",
       "       '719', '2534', '4002', '541', '2875', '4344', '2081', '3894',\n",
       "       '1256', '676', '4178', '399', '86', '1571', '4037', '1967', '4005',\n",
       "       '3216', '1150', '2591', '1801', '3721', '1775', '2260', '3707',\n",
       "       '4292', '1820', '145', '1480', '1850', '430', '217', '3920_',\n",
       "       '1389', '1579', '3391', '2385', '3336', '3392', '3688', '221',\n",
       "       '2047'], dtype=object)"
      ]
     },
     "execution_count": 316,
     "metadata": {},
     "output_type": "execute_result"
    }
   ],
   "source": [
    "df['Num_of_Delayed_Payment'].unique()"
   ]
  },
  {
   "cell_type": "markdown",
   "id": "1926fb66",
   "metadata": {},
   "source": [
    "- We see that the column has negative numbers and a trailing \"_\" which we need to remove."
   ]
  },
  {
   "cell_type": "code",
   "execution_count": 317,
   "id": "363287b8",
   "metadata": {},
   "outputs": [
    {
     "data": {
      "text/plain": [
       "array(['7', nan, '4', '8', '6', '1', '-1', '3', '0', '5', '9', '12', '15',\n",
       "       '17', '10', '2', '11', '14', '20', '22', '13', '16', '18', '19',\n",
       "       '23', '24', '21', '3318', '3083', '1338', '26', '3104', '25',\n",
       "       '183', '1106', '834', '2672', '2008', '-3', '538', '27', '-2',\n",
       "       '3478', '2420', '707', '708', '3815', '28', '1867', '2250', '1463',\n",
       "       '4126', '2882', '1941', '2655', '2628', '132', '3069', '306',\n",
       "       '3539', '3684', '1823', '4128', '1946', '827', '2297', '2566',\n",
       "       '904', '182', '929', '3568', '2503', '1552', '2812', '1697',\n",
       "       '3764', '851', '3905', '923', '88', '1668', '3253', '808', '2689',\n",
       "       '3858', '642', '3457', '1402', '1732', '3154', '847', '3037',\n",
       "       '2204', '3103', '1063', '2056', '1282', '1841', '2569', '211',\n",
       "       '793', '3484', '411', '3491', '2072', '3050', '1049', '2162',\n",
       "       '3402', '2753', '1718', '1014', '3260', '3855', '84', '2311',\n",
       "       '3251', '1832', '4069', '3010', '733', '4241', '166', '2461',\n",
       "       '1749', '3200', '663', '2185', '4161', '3009', '359', '2015',\n",
       "       '1523', '594', '1079', '1199', '186', '1015', '1989', '281', '559',\n",
       "       '2165', '1509', '3545', '779', '192', '4311', '2323', '1471',\n",
       "       '1538', '3529', '439', '3456', '3040', '2697', '3179', '1332',\n",
       "       '3175', '3112', '829', '4022', '3870', '4023', '531', '1511',\n",
       "       '3092', '3191', '2400', '3621', '3536', '544', '1864', '142',\n",
       "       '2300', '264', '72', '497', '398', '2222', '3960', '1473', '3043',\n",
       "       '4216', '2903', '2658', '4042', '1323', '2184', '921', '1328',\n",
       "       '3404', '2438', '809', '47', '1996', '4164', '1370', '1204',\n",
       "       '2167', '4011', '2590', '2594', '2533', '1663', '1018', '2919',\n",
       "       '3458', '3316', '2589', '2801', '3355', '2529', '2488', '4266',\n",
       "       '1243', '739', '845', '4107', '1884', '337', '2660', '290', '674',\n",
       "       '2450', '3738', '1792', '2823', '2570', '775', '960', '482',\n",
       "       '1706', '2493', '3623', '3031', '2794', '2219', '758', '1849',\n",
       "       '3559', '4096', '3726', '1953', '2657', '4043', '2938', '4384',\n",
       "       '1647', '2694', '3533', '519', '2677', '2413', '4139', '2609',\n",
       "       '4326', '4211', '823', '3011', '1608', '2860', '4219', '4047',\n",
       "       '1531', '742', '52', '4024', '1673', '49', '2243', '1685', '1869',\n",
       "       '2587', '3489', '749', '1164', '2616', '848', '4134', '1530',\n",
       "       '1502', '4075', '3845', '1060', '2573', '2128', '328', '640',\n",
       "       '2585', '2230', '1795', '1180', '1534', '3739', '3313', '4191',\n",
       "       '996', '372', '3340', '3177', '602', '787', '4135', '3878', '4059',\n",
       "       '1218', '4051', '1766', '1359', '3107', '585', '1263', '2511',\n",
       "       '709', '3632', '4077', '2943', '2793', '3245', '2317', '1640',\n",
       "       '2237', '3819', '252', '3978', '1498', '1833', '2737', '1192',\n",
       "       '1481', '700', '271', '2286', '273', '1215', '3944', '2070',\n",
       "       '1478', '3749', '871', '2508', '2959', '130', '294', '3097',\n",
       "       '3511', '415', '2196', '2138', '2149', '1874', '1553', '3847',\n",
       "       '3222', '1222', '2907', '3051', '98', '1598', '416', '2314',\n",
       "       '2955', '1691', '1450', '2021', '1636', '80', '3708', '195', '320',\n",
       "       '2945', '1911', '3416', '3796', '4159', '2255', '938', '4397',\n",
       "       '3776', '2148', '1994', '853', '1178', '1633', '196', '3864',\n",
       "       '714', '1687', '1034', '468', '1337', '2044', '1541', '3661',\n",
       "       '1211', '2645', '2007', '102', '1891', '3162', '3142', '2766',\n",
       "       '3881', '2728', '2671', '1952', '3580', '2705', '4251', '3840',\n",
       "       '972', '3119', '3502', '4185', '2954', '683', '1614', '1572',\n",
       "       '4302', '3447', '1852', '2131', '1900', '1699', '133', '2018',\n",
       "       '2127', '508', '210', '577', '1664', '2604', '1411', '2351', '867',\n",
       "       '1371', '2352', '1191', '905', '4053', '3869', '933', '3660',\n",
       "       '3300', '3629', '3208', '2142', '2521', '450', '583', '876', '121',\n",
       "       '3919', '2560', '2578', '2060', '813', '1236', '1489', '4360',\n",
       "       '1154', '2544', '4172', '2924', '426', '4270', '2768', '3909',\n",
       "       '3951', '2712', '2498', '3171', '1750', '197', '265', '4293',\n",
       "       '887', '2707', '2397', '4337', '4249', '2751', '2950', '1859',\n",
       "       '107', '2348', '2506', '2810', '2873', '1301', '2262', '1890',\n",
       "       '3078', '3865', '3268', '2777', '3105', '1278', '3793', '2276',\n",
       "       '2879', '4298', '2141', '223', '2239', '846', '1862', '2756',\n",
       "       '1181', '1184', '2617', '3972', '2334', '3900', '2759', '4169',\n",
       "       '2280', '2492', '2729', '3750', '1825', '309', '2431', '3099',\n",
       "       '2080', '2279', '2666', '3722', '1976', '529', '1985', '3060',\n",
       "       '4278', '3212', '46', '3148', '3467', '4231', '3790', '473',\n",
       "       '1536', '3955', '2324', '2381', '1177', '371', '2896', '3880',\n",
       "       '2991', '4319', '1061', '662', '4144', '693', '2006', '3115',\n",
       "       '2278', '3751', '1861', '4262', '2913', '2615', '3492', '800',\n",
       "       '3766', '384', '3407', '1087', '3329', '1086', '2216', '2457',\n",
       "       '3522', '3274', '3488', '2854', '238', '351', '3706', '4280',\n",
       "       '4095', '2926', '1329', '3370', '283', '1392', '1743', '2429',\n",
       "       '974', '3156', '1133', '4388', '3243', '4282', '2523', '4281',\n",
       "       '3415', '2001', '441', '94', '3499', '969', '3368', '106', '1004',\n",
       "       '2638', '3946', '2956', '4324', '85', '4113', '819', '615', '1172',\n",
       "       '2553', '1765', '3495', '2820', '4239', '4340', '1295', '2636',\n",
       "       '4295', '1653', '1325', '1879', '1096', '1735', '3584', '1073',\n",
       "       '1975', '3827', '2552', '3754', '2378', '532', '926', '2376',\n",
       "       '3636', '3763', '778', '2621', '804', '754', '2418', '4019',\n",
       "       '3926', '3861', '3574', '175', '162', '2834', '3765', '2354',\n",
       "       '523', '2274', '1606', '1443', '1354', '1422', '1045', '4106',\n",
       "       '3155', '666', '659', '3229', '1216', '2076', '2384', '1954',\n",
       "       '719', '2534', '4002', '541', '2875', '4344', '2081', '3894',\n",
       "       '1256', '676', '4178', '399', '86', '1571', '4037', '1967', '4005',\n",
       "       '3216', '1150', '2591', '1801', '3721', '1775', '2260', '3707',\n",
       "       '4292', '1820', '145', '1480', '1850', '430', '217', '3920',\n",
       "       '1389', '1579', '3391', '2385', '3336', '3392', '3688', '221',\n",
       "       '2047'], dtype=object)"
      ]
     },
     "execution_count": 317,
     "metadata": {},
     "output_type": "execute_result"
    }
   ],
   "source": [
    "df['Num_of_Delayed_Payment'] = df['Num_of_Delayed_Payment'].str.replace('_', '')\n",
    "df['Num_of_Delayed_Payment'].unique()"
   ]
  },
  {
   "cell_type": "code",
   "execution_count": 318,
   "id": "f69841f4",
   "metadata": {},
   "outputs": [
    {
     "name": "stderr",
     "output_type": "stream",
     "text": [
      "C:\\Users\\basel\\AppData\\Local\\Temp\\ipykernel_5336\\4241038995.py:2: FutureWarning: A value is trying to be set on a copy of a DataFrame or Series through chained assignment using an inplace method.\n",
      "The behavior will change in pandas 3.0. This inplace method will never work because the intermediate object on which we are setting values always behaves as a copy.\n",
      "\n",
      "For example, when doing 'df[col].method(value, inplace=True)', try using 'df.method({col: value}, inplace=True)' or df[col] = df[col].method(value) instead, to perform the operation inplace on the original object.\n",
      "\n",
      "\n",
      "  df['Num_of_Delayed_Payment'].fillna(0, inplace=True)\n"
     ]
    },
    {
     "data": {
      "text/plain": [
       "array(['7', 0, '4', '8', '6', '1', '-1', '3', '0', '5', '9', '12', '15',\n",
       "       '17', '10', '2', '11', '14', '20', '22', '13', '16', '18', '19',\n",
       "       '23', '24', '21', '3318', '3083', '1338', '26', '3104', '25',\n",
       "       '183', '1106', '834', '2672', '2008', '-3', '538', '27', '-2',\n",
       "       '3478', '2420', '707', '708', '3815', '28', '1867', '2250', '1463',\n",
       "       '4126', '2882', '1941', '2655', '2628', '132', '3069', '306',\n",
       "       '3539', '3684', '1823', '4128', '1946', '827', '2297', '2566',\n",
       "       '904', '182', '929', '3568', '2503', '1552', '2812', '1697',\n",
       "       '3764', '851', '3905', '923', '88', '1668', '3253', '808', '2689',\n",
       "       '3858', '642', '3457', '1402', '1732', '3154', '847', '3037',\n",
       "       '2204', '3103', '1063', '2056', '1282', '1841', '2569', '211',\n",
       "       '793', '3484', '411', '3491', '2072', '3050', '1049', '2162',\n",
       "       '3402', '2753', '1718', '1014', '3260', '3855', '84', '2311',\n",
       "       '3251', '1832', '4069', '3010', '733', '4241', '166', '2461',\n",
       "       '1749', '3200', '663', '2185', '4161', '3009', '359', '2015',\n",
       "       '1523', '594', '1079', '1199', '186', '1015', '1989', '281', '559',\n",
       "       '2165', '1509', '3545', '779', '192', '4311', '2323', '1471',\n",
       "       '1538', '3529', '439', '3456', '3040', '2697', '3179', '1332',\n",
       "       '3175', '3112', '829', '4022', '3870', '4023', '531', '1511',\n",
       "       '3092', '3191', '2400', '3621', '3536', '544', '1864', '142',\n",
       "       '2300', '264', '72', '497', '398', '2222', '3960', '1473', '3043',\n",
       "       '4216', '2903', '2658', '4042', '1323', '2184', '921', '1328',\n",
       "       '3404', '2438', '809', '47', '1996', '4164', '1370', '1204',\n",
       "       '2167', '4011', '2590', '2594', '2533', '1663', '1018', '2919',\n",
       "       '3458', '3316', '2589', '2801', '3355', '2529', '2488', '4266',\n",
       "       '1243', '739', '845', '4107', '1884', '337', '2660', '290', '674',\n",
       "       '2450', '3738', '1792', '2823', '2570', '775', '960', '482',\n",
       "       '1706', '2493', '3623', '3031', '2794', '2219', '758', '1849',\n",
       "       '3559', '4096', '3726', '1953', '2657', '4043', '2938', '4384',\n",
       "       '1647', '2694', '3533', '519', '2677', '2413', '4139', '2609',\n",
       "       '4326', '4211', '823', '3011', '1608', '2860', '4219', '4047',\n",
       "       '1531', '742', '52', '4024', '1673', '49', '2243', '1685', '1869',\n",
       "       '2587', '3489', '749', '1164', '2616', '848', '4134', '1530',\n",
       "       '1502', '4075', '3845', '1060', '2573', '2128', '328', '640',\n",
       "       '2585', '2230', '1795', '1180', '1534', '3739', '3313', '4191',\n",
       "       '996', '372', '3340', '3177', '602', '787', '4135', '3878', '4059',\n",
       "       '1218', '4051', '1766', '1359', '3107', '585', '1263', '2511',\n",
       "       '709', '3632', '4077', '2943', '2793', '3245', '2317', '1640',\n",
       "       '2237', '3819', '252', '3978', '1498', '1833', '2737', '1192',\n",
       "       '1481', '700', '271', '2286', '273', '1215', '3944', '2070',\n",
       "       '1478', '3749', '871', '2508', '2959', '130', '294', '3097',\n",
       "       '3511', '415', '2196', '2138', '2149', '1874', '1553', '3847',\n",
       "       '3222', '1222', '2907', '3051', '98', '1598', '416', '2314',\n",
       "       '2955', '1691', '1450', '2021', '1636', '80', '3708', '195', '320',\n",
       "       '2945', '1911', '3416', '3796', '4159', '2255', '938', '4397',\n",
       "       '3776', '2148', '1994', '853', '1178', '1633', '196', '3864',\n",
       "       '714', '1687', '1034', '468', '1337', '2044', '1541', '3661',\n",
       "       '1211', '2645', '2007', '102', '1891', '3162', '3142', '2766',\n",
       "       '3881', '2728', '2671', '1952', '3580', '2705', '4251', '3840',\n",
       "       '972', '3119', '3502', '4185', '2954', '683', '1614', '1572',\n",
       "       '4302', '3447', '1852', '2131', '1900', '1699', '133', '2018',\n",
       "       '2127', '508', '210', '577', '1664', '2604', '1411', '2351', '867',\n",
       "       '1371', '2352', '1191', '905', '4053', '3869', '933', '3660',\n",
       "       '3300', '3629', '3208', '2142', '2521', '450', '583', '876', '121',\n",
       "       '3919', '2560', '2578', '2060', '813', '1236', '1489', '4360',\n",
       "       '1154', '2544', '4172', '2924', '426', '4270', '2768', '3909',\n",
       "       '3951', '2712', '2498', '3171', '1750', '197', '265', '4293',\n",
       "       '887', '2707', '2397', '4337', '4249', '2751', '2950', '1859',\n",
       "       '107', '2348', '2506', '2810', '2873', '1301', '2262', '1890',\n",
       "       '3078', '3865', '3268', '2777', '3105', '1278', '3793', '2276',\n",
       "       '2879', '4298', '2141', '223', '2239', '846', '1862', '2756',\n",
       "       '1181', '1184', '2617', '3972', '2334', '3900', '2759', '4169',\n",
       "       '2280', '2492', '2729', '3750', '1825', '309', '2431', '3099',\n",
       "       '2080', '2279', '2666', '3722', '1976', '529', '1985', '3060',\n",
       "       '4278', '3212', '46', '3148', '3467', '4231', '3790', '473',\n",
       "       '1536', '3955', '2324', '2381', '1177', '371', '2896', '3880',\n",
       "       '2991', '4319', '1061', '662', '4144', '693', '2006', '3115',\n",
       "       '2278', '3751', '1861', '4262', '2913', '2615', '3492', '800',\n",
       "       '3766', '384', '3407', '1087', '3329', '1086', '2216', '2457',\n",
       "       '3522', '3274', '3488', '2854', '238', '351', '3706', '4280',\n",
       "       '4095', '2926', '1329', '3370', '283', '1392', '1743', '2429',\n",
       "       '974', '3156', '1133', '4388', '3243', '4282', '2523', '4281',\n",
       "       '3415', '2001', '441', '94', '3499', '969', '3368', '106', '1004',\n",
       "       '2638', '3946', '2956', '4324', '85', '4113', '819', '615', '1172',\n",
       "       '2553', '1765', '3495', '2820', '4239', '4340', '1295', '2636',\n",
       "       '4295', '1653', '1325', '1879', '1096', '1735', '3584', '1073',\n",
       "       '1975', '3827', '2552', '3754', '2378', '532', '926', '2376',\n",
       "       '3636', '3763', '778', '2621', '804', '754', '2418', '4019',\n",
       "       '3926', '3861', '3574', '175', '162', '2834', '3765', '2354',\n",
       "       '523', '2274', '1606', '1443', '1354', '1422', '1045', '4106',\n",
       "       '3155', '666', '659', '3229', '1216', '2076', '2384', '1954',\n",
       "       '719', '2534', '4002', '541', '2875', '4344', '2081', '3894',\n",
       "       '1256', '676', '4178', '399', '86', '1571', '4037', '1967', '4005',\n",
       "       '3216', '1150', '2591', '1801', '3721', '1775', '2260', '3707',\n",
       "       '4292', '1820', '145', '1480', '1850', '430', '217', '3920',\n",
       "       '1389', '1579', '3391', '2385', '3336', '3392', '3688', '221',\n",
       "       '2047'], dtype=object)"
      ]
     },
     "execution_count": 318,
     "metadata": {},
     "output_type": "execute_result"
    }
   ],
   "source": [
    "# Replace Nan with 0\n",
    "df['Num_of_Delayed_Payment'].fillna(0, inplace=True)\n",
    "df['Num_of_Delayed_Payment'].unique()"
   ]
  },
  {
   "cell_type": "code",
   "execution_count": 319,
   "id": "d6b8f2fd",
   "metadata": {},
   "outputs": [
    {
     "data": {
      "text/plain": [
       "array([   7,    0,    4,    8,    6,    1,    3,    5,    9,   12,   15,\n",
       "         17,   10,    2,   11,   14,   20,   22,   13,   16,   18,   19,\n",
       "         23,   24,   21, 3318, 3083, 1338,   26, 3104,   25,  183, 1106,\n",
       "        834, 2672, 2008,  538,   27, 3478, 2420,  707,  708, 3815,   28,\n",
       "       1867, 2250, 1463, 4126, 2882, 1941, 2655, 2628,  132, 3069,  306,\n",
       "       3539, 3684, 1823, 4128, 1946,  827, 2297, 2566,  904,  182,  929,\n",
       "       3568, 2503, 1552, 2812, 1697, 3764,  851, 3905,  923,   88, 1668,\n",
       "       3253,  808, 2689, 3858,  642, 3457, 1402, 1732, 3154,  847, 3037,\n",
       "       2204, 3103, 1063, 2056, 1282, 1841, 2569,  211,  793, 3484,  411,\n",
       "       3491, 2072, 3050, 1049, 2162, 3402, 2753, 1718, 1014, 3260, 3855,\n",
       "         84, 2311, 3251, 1832, 4069, 3010,  733, 4241,  166, 2461, 1749,\n",
       "       3200,  663, 2185, 4161, 3009,  359, 2015, 1523,  594, 1079, 1199,\n",
       "        186, 1015, 1989,  281,  559, 2165, 1509, 3545,  779,  192, 4311,\n",
       "       2323, 1471, 1538, 3529,  439, 3456, 3040, 2697, 3179, 1332, 3175,\n",
       "       3112,  829, 4022, 3870, 4023,  531, 1511, 3092, 3191, 2400, 3621,\n",
       "       3536,  544, 1864,  142, 2300,  264,   72,  497,  398, 2222, 3960,\n",
       "       1473, 3043, 4216, 2903, 2658, 4042, 1323, 2184,  921, 1328, 3404,\n",
       "       2438,  809,   47, 1996, 4164, 1370, 1204, 2167, 4011, 2590, 2594,\n",
       "       2533, 1663, 1018, 2919, 3458, 3316, 2589, 2801, 3355, 2529, 2488,\n",
       "       4266, 1243,  739,  845, 4107, 1884,  337, 2660,  290,  674, 2450,\n",
       "       3738, 1792, 2823, 2570,  775,  960,  482, 1706, 2493, 3623, 3031,\n",
       "       2794, 2219,  758, 1849, 3559, 4096, 3726, 1953, 2657, 4043, 2938,\n",
       "       4384, 1647, 2694, 3533,  519, 2677, 2413, 4139, 2609, 4326, 4211,\n",
       "        823, 3011, 1608, 2860, 4219, 4047, 1531,  742,   52, 4024, 1673,\n",
       "         49, 2243, 1685, 1869, 2587, 3489,  749, 1164, 2616,  848, 4134,\n",
       "       1530, 1502, 4075, 3845, 1060, 2573, 2128,  328,  640, 2585, 2230,\n",
       "       1795, 1180, 1534, 3739, 3313, 4191,  996,  372, 3340, 3177,  602,\n",
       "        787, 4135, 3878, 4059, 1218, 4051, 1766, 1359, 3107,  585, 1263,\n",
       "       2511,  709, 3632, 4077, 2943, 2793, 3245, 2317, 1640, 2237, 3819,\n",
       "        252, 3978, 1498, 1833, 2737, 1192, 1481,  700,  271, 2286,  273,\n",
       "       1215, 3944, 2070, 1478, 3749,  871, 2508, 2959,  130,  294, 3097,\n",
       "       3511,  415, 2196, 2138, 2149, 1874, 1553, 3847, 3222, 1222, 2907,\n",
       "       3051,   98, 1598,  416, 2314, 2955, 1691, 1450, 2021, 1636,   80,\n",
       "       3708,  195,  320, 2945, 1911, 3416, 3796, 4159, 2255,  938, 4397,\n",
       "       3776, 2148, 1994,  853, 1178, 1633,  196, 3864,  714, 1687, 1034,\n",
       "        468, 1337, 2044, 1541, 3661, 1211, 2645, 2007,  102, 1891, 3162,\n",
       "       3142, 2766, 3881, 2728, 2671, 1952, 3580, 2705, 4251, 3840,  972,\n",
       "       3119, 3502, 4185, 2954,  683, 1614, 1572, 4302, 3447, 1852, 2131,\n",
       "       1900, 1699,  133, 2018, 2127,  508,  210,  577, 1664, 2604, 1411,\n",
       "       2351,  867, 1371, 2352, 1191,  905, 4053, 3869,  933, 3660, 3300,\n",
       "       3629, 3208, 2142, 2521,  450,  583,  876,  121, 3919, 2560, 2578,\n",
       "       2060,  813, 1236, 1489, 4360, 1154, 2544, 4172, 2924,  426, 4270,\n",
       "       2768, 3909, 3951, 2712, 2498, 3171, 1750,  197,  265, 4293,  887,\n",
       "       2707, 2397, 4337, 4249, 2751, 2950, 1859,  107, 2348, 2506, 2810,\n",
       "       2873, 1301, 2262, 1890, 3078, 3865, 3268, 2777, 3105, 1278, 3793,\n",
       "       2276, 2879, 4298, 2141,  223, 2239,  846, 1862, 2756, 1181, 1184,\n",
       "       2617, 3972, 2334, 3900, 2759, 4169, 2280, 2492, 2729, 3750, 1825,\n",
       "        309, 2431, 3099, 2080, 2279, 2666, 3722, 1976,  529, 1985, 3060,\n",
       "       4278, 3212,   46, 3148, 3467, 4231, 3790,  473, 1536, 3955, 2324,\n",
       "       2381, 1177,  371, 2896, 3880, 2991, 4319, 1061,  662, 4144,  693,\n",
       "       2006, 3115, 2278, 3751, 1861, 4262, 2913, 2615, 3492,  800, 3766,\n",
       "        384, 3407, 1087, 3329, 1086, 2216, 2457, 3522, 3274, 3488, 2854,\n",
       "        238,  351, 3706, 4280, 4095, 2926, 1329, 3370,  283, 1392, 1743,\n",
       "       2429,  974, 3156, 1133, 4388, 3243, 4282, 2523, 4281, 3415, 2001,\n",
       "        441,   94, 3499,  969, 3368,  106, 1004, 2638, 3946, 2956, 4324,\n",
       "         85, 4113,  819,  615, 1172, 2553, 1765, 3495, 2820, 4239, 4340,\n",
       "       1295, 2636, 4295, 1653, 1325, 1879, 1096, 1735, 3584, 1073, 1975,\n",
       "       3827, 2552, 3754, 2378,  532,  926, 2376, 3636, 3763,  778, 2621,\n",
       "        804,  754, 2418, 4019, 3926, 3861, 3574,  175,  162, 2834, 3765,\n",
       "       2354,  523, 2274, 1606, 1443, 1354, 1422, 1045, 4106, 3155,  666,\n",
       "        659, 3229, 1216, 2076, 2384, 1954,  719, 2534, 4002,  541, 2875,\n",
       "       4344, 2081, 3894, 1256,  676, 4178,  399,   86, 1571, 4037, 1967,\n",
       "       4005, 3216, 1150, 2591, 1801, 3721, 1775, 2260, 3707, 4292, 1820,\n",
       "        145, 1480, 1850,  430,  217, 3920, 1389, 1579, 3391, 2385, 3336,\n",
       "       3392, 3688,  221, 2047])"
      ]
     },
     "execution_count": 319,
     "metadata": {},
     "output_type": "execute_result"
    }
   ],
   "source": [
    "# Replace negative values with 0\n",
    "df['Num_of_Delayed_Payment'] = df['Num_of_Delayed_Payment'].astype(int)\n",
    "df.loc[df['Num_of_Delayed_Payment'] < 0, 'Num_of_Delayed_Payment'] = 0\n",
    "df['Num_of_Delayed_Payment'].unique()"
   ]
  },
  {
   "cell_type": "markdown",
   "id": "c798e5a8",
   "metadata": {},
   "source": [
    "- We fixed the null values and negative values in the Num of delayed payment column."
   ]
  },
  {
   "cell_type": "markdown",
   "id": "805d2b22",
   "metadata": {},
   "source": [
    "# 4.13. Checking credit limit"
   ]
  },
  {
   "cell_type": "code",
   "execution_count": 320,
   "id": "7ceae6f8",
   "metadata": {},
   "outputs": [
    {
     "data": {
      "text/plain": [
       "array(['11.27', '_', '6.27', ..., '17.509999999999998', '25.16', '21.17'],\n",
       "      dtype=object)"
      ]
     },
     "execution_count": 320,
     "metadata": {},
     "output_type": "execute_result"
    }
   ],
   "source": [
    "df['Changed_Credit_Limit'].unique()"
   ]
  },
  {
   "cell_type": "code",
   "execution_count": 321,
   "id": "5612c18f",
   "metadata": {},
   "outputs": [
    {
     "data": {
      "text/plain": [
       "array(['11.27', '0', '6.27', ..., '17.509999999999998', '25.16', '21.17'],\n",
       "      dtype=object)"
      ]
     },
     "execution_count": 321,
     "metadata": {},
     "output_type": "execute_result"
    }
   ],
   "source": [
    "# Change '_' with 0\n",
    "df['Changed_Credit_Limit'] = df['Changed_Credit_Limit'].str.replace('_', '0')\n",
    "df['Changed_Credit_Limit'].unique()"
   ]
  },
  {
   "cell_type": "code",
   "execution_count": 322,
   "id": "b4e896af",
   "metadata": {},
   "outputs": [
    {
     "data": {
      "text/plain": [
       "Changed_Credit_Limit\n",
       "0                    2091\n",
       "8.22                  133\n",
       "11.5                  127\n",
       "11.32                 126\n",
       "7.35                  121\n",
       "                     ... \n",
       "30.16                   1\n",
       "4.710000000000001       1\n",
       "-4.39                   1\n",
       "27.38                   1\n",
       "16.63                   1\n",
       "Name: count, Length: 4384, dtype: int64"
      ]
     },
     "execution_count": 322,
     "metadata": {},
     "output_type": "execute_result"
    }
   ],
   "source": [
    "# Counting how much '_' is in the column\n",
    "df['Changed_Credit_Limit'].value_counts()"
   ]
  },
  {
   "cell_type": "code",
   "execution_count": 323,
   "id": "c3ec0c3b",
   "metadata": {},
   "outputs": [
    {
     "data": {
      "text/plain": [
       "array([11.27,  9.25,  6.27, ..., 17.51, 25.16, 21.17])"
      ]
     },
     "execution_count": 323,
     "metadata": {},
     "output_type": "execute_result"
    }
   ],
   "source": [
    "df['Changed_Credit_Limit'] = df['Changed_Credit_Limit'].astype(float)\n",
    "df['Changed_Credit_Limit'] = df['Changed_Credit_Limit'].replace(0, df['Changed_Credit_Limit'].median())\n",
    "df['Changed_Credit_Limit'].unique()"
   ]
  },
  {
   "cell_type": "code",
   "execution_count": 324,
   "id": "09dc855c",
   "metadata": {},
   "outputs": [
    {
     "name": "stdout",
     "output_type": "stream",
     "text": [
      "<class 'pandas.core.frame.DataFrame'>\n",
      "RangeIndex: 100000 entries, 0 to 99999\n",
      "Data columns (total 22 columns):\n",
      " #   Column                            Non-Null Count   Dtype  \n",
      "---  ------                            --------------   -----  \n",
      " 0   ID                                100000 non-null  int64  \n",
      " 1   Annual_Income                     100000 non-null  float64\n",
      " 2   Num_Bank_Accounts                 100000 non-null  int64  \n",
      " 3   Num_Credit_Card                   100000 non-null  int64  \n",
      " 4   Interest_Rate                     100000 non-null  int64  \n",
      " 5   Num_of_Loan                       100000 non-null  int64  \n",
      " 6   Delay_from_due_date               100000 non-null  int64  \n",
      " 7   Num_of_Delayed_Payment            100000 non-null  int64  \n",
      " 8   Changed_Credit_Limit              100000 non-null  float64\n",
      " 9   Num_Credit_Inquiries              98035 non-null   float64\n",
      " 10  Credit_Mix                        100000 non-null  object \n",
      " 11  Outstanding_Debt                  100000 non-null  object \n",
      " 12  Credit_Utilization_Ratio          100000 non-null  float64\n",
      " 13  Credit_History_Age                90970 non-null   object \n",
      " 14  Payment_of_Min_Amount             100000 non-null  object \n",
      " 15  Total_EMI_per_month               100000 non-null  float64\n",
      " 16  Amount_invested_monthly           95521 non-null   object \n",
      " 17  Payment_Behaviour                 100000 non-null  object \n",
      " 18  Monthly_Balance                   98800 non-null   object \n",
      " 19  Credit_Score                      100000 non-null  object \n",
      " 20  Occupation_Encoded                100000 non-null  int64  \n",
      " 21  Monthly_Inhand_Salary_Winsorized  100000 non-null  float64\n",
      "dtypes: float64(6), int64(8), object(8)\n",
      "memory usage: 16.8+ MB\n"
     ]
    }
   ],
   "source": [
    "df.info()"
   ]
  },
  {
   "cell_type": "markdown",
   "id": "966ac384",
   "metadata": {},
   "source": [
    "# 4.14. Number of credit inquiries"
   ]
  },
  {
   "cell_type": "code",
   "execution_count": 325,
   "id": "ceaf80a9",
   "metadata": {},
   "outputs": [
    {
     "data": {
      "text/plain": [
       "np.int64(1965)"
      ]
     },
     "execution_count": 325,
     "metadata": {},
     "output_type": "execute_result"
    }
   ],
   "source": [
    "df['Num_Credit_Inquiries'].isnull().sum()"
   ]
  },
  {
   "cell_type": "code",
   "execution_count": 326,
   "id": "8b0cc28e",
   "metadata": {},
   "outputs": [
    {
     "data": {
      "text/plain": [
       "np.int64(0)"
      ]
     },
     "execution_count": 326,
     "metadata": {},
     "output_type": "execute_result"
    }
   ],
   "source": [
    "df['Num_Credit_Inquiries'] = df['Num_Credit_Inquiries'].fillna(df['Num_Credit_Inquiries'].median())\n",
    "df['Num_Credit_Inquiries'].isnull().sum()"
   ]
  },
  {
   "cell_type": "markdown",
   "id": "ca109769",
   "metadata": {},
   "source": [
    "# 4.15. Credit Mix column"
   ]
  },
  {
   "cell_type": "markdown",
   "id": "0c00716e",
   "metadata": {},
   "source": [
    "- Credit Mix column is important in determining the credit score of a customer."
   ]
  },
  {
   "cell_type": "code",
   "execution_count": 327,
   "id": "8b766f0e",
   "metadata": {},
   "outputs": [
    {
     "data": {
      "text/plain": [
       "Credit_Mix\n",
       "Standard    36479\n",
       "Good        24337\n",
       "_           20195\n",
       "Bad         18989\n",
       "Name: count, dtype: int64"
      ]
     },
     "execution_count": 327,
     "metadata": {},
     "output_type": "execute_result"
    }
   ],
   "source": [
    "df['Credit_Mix'].value_counts()"
   ]
  },
  {
   "cell_type": "code",
   "execution_count": 328,
   "id": "e4123c81",
   "metadata": {},
   "outputs": [
    {
     "data": {
      "text/plain": [
       "Credit_Mix_Encoded\n",
       "1    56674\n",
       "2    24337\n",
       "0    18989\n",
       "Name: count, dtype: int64"
      ]
     },
     "execution_count": 328,
     "metadata": {},
     "output_type": "execute_result"
    }
   ],
   "source": [
    "# Manual ordinal encoding based on credit quality\n",
    "credit_mix_order = {\n",
    "    'Bad': 0,\n",
    "    'Standard': 1, \n",
    "    'Good': 2,\n",
    "    'Unknown': 1,  # Treat unknown as standard\n",
    "    '_': 1         # Same for underscore\n",
    "}\n",
    "\n",
    "df['Credit_Mix_Encoded'] = df['Credit_Mix'].map(credit_mix_order)\n",
    "df['Credit_Mix_Encoded'].value_counts()"
   ]
  },
  {
   "cell_type": "markdown",
   "id": "d0fb707f",
   "metadata": {},
   "source": [
    "- This way, we encoded the credit mix column efficiently to fit the model well with no risk of overfitting or being resource intensive.\n",
    "- We treated '_' and 'standard' as the same value for 1, 'Bad' for 0, and 'Good' for 2."
   ]
  },
  {
   "cell_type": "code",
   "execution_count": 329,
   "id": "a7a6af71",
   "metadata": {},
   "outputs": [],
   "source": [
    "df.drop(columns=['Credit_Mix'], inplace=True)"
   ]
  },
  {
   "cell_type": "code",
   "execution_count": 330,
   "id": "b07c85aa",
   "metadata": {},
   "outputs": [
    {
     "name": "stdout",
     "output_type": "stream",
     "text": [
      "<class 'pandas.core.frame.DataFrame'>\n",
      "RangeIndex: 100000 entries, 0 to 99999\n",
      "Data columns (total 22 columns):\n",
      " #   Column                            Non-Null Count   Dtype  \n",
      "---  ------                            --------------   -----  \n",
      " 0   ID                                100000 non-null  int64  \n",
      " 1   Annual_Income                     100000 non-null  float64\n",
      " 2   Num_Bank_Accounts                 100000 non-null  int64  \n",
      " 3   Num_Credit_Card                   100000 non-null  int64  \n",
      " 4   Interest_Rate                     100000 non-null  int64  \n",
      " 5   Num_of_Loan                       100000 non-null  int64  \n",
      " 6   Delay_from_due_date               100000 non-null  int64  \n",
      " 7   Num_of_Delayed_Payment            100000 non-null  int64  \n",
      " 8   Changed_Credit_Limit              100000 non-null  float64\n",
      " 9   Num_Credit_Inquiries              100000 non-null  float64\n",
      " 10  Outstanding_Debt                  100000 non-null  object \n",
      " 11  Credit_Utilization_Ratio          100000 non-null  float64\n",
      " 12  Credit_History_Age                90970 non-null   object \n",
      " 13  Payment_of_Min_Amount             100000 non-null  object \n",
      " 14  Total_EMI_per_month               100000 non-null  float64\n",
      " 15  Amount_invested_monthly           95521 non-null   object \n",
      " 16  Payment_Behaviour                 100000 non-null  object \n",
      " 17  Monthly_Balance                   98800 non-null   object \n",
      " 18  Credit_Score                      100000 non-null  object \n",
      " 19  Occupation_Encoded                100000 non-null  int64  \n",
      " 20  Monthly_Inhand_Salary_Winsorized  100000 non-null  float64\n",
      " 21  Credit_Mix_Encoded                100000 non-null  int64  \n",
      "dtypes: float64(6), int64(9), object(7)\n",
      "memory usage: 16.8+ MB\n"
     ]
    }
   ],
   "source": [
    "df.info()"
   ]
  },
  {
   "cell_type": "markdown",
   "id": "f57a538b",
   "metadata": {},
   "source": [
    "# 4.16. Outstanding debt column"
   ]
  },
  {
   "cell_type": "markdown",
   "id": "bdee1ffd",
   "metadata": {},
   "source": [
    "- Outstanding debt column also has a trailing \"_\" which we need to remove."
   ]
  },
  {
   "cell_type": "code",
   "execution_count": 331,
   "id": "f32fee2b",
   "metadata": {},
   "outputs": [
    {
     "data": {
      "text/plain": [
       "array(['809.98', '605.03', '1303.01', ..., '3571.7_', '3571.7', '502.38'],\n",
       "      dtype=object)"
      ]
     },
     "execution_count": 331,
     "metadata": {},
     "output_type": "execute_result"
    }
   ],
   "source": [
    "df['Outstanding_Debt'].unique()"
   ]
  },
  {
   "cell_type": "code",
   "execution_count": 332,
   "id": "d0a7a686",
   "metadata": {},
   "outputs": [
    {
     "data": {
      "text/plain": [
       "array([ 809.98,  605.03, 1303.01, ...,  620.64, 3571.7 ,  502.38])"
      ]
     },
     "execution_count": 332,
     "metadata": {},
     "output_type": "execute_result"
    }
   ],
   "source": [
    "df['Outstanding_Debt'] = df['Outstanding_Debt'].str.replace('_', '').astype(float)\n",
    "df['Outstanding_Debt'].unique()"
   ]
  },
  {
   "cell_type": "code",
   "execution_count": 333,
   "id": "24c38d92",
   "metadata": {},
   "outputs": [
    {
     "data": {
      "image/png": "[encoded data removed]",
      "text/plain": [
       "<Figure size 640x480 with 1 Axes>"
      ]
     },
     "metadata": {},
     "output_type": "display_data"
    }
   ],
   "source": [
    "plt.Figure(figsize=(12, 6))\n",
    "sns.boxplot(x='Credit_Score', y='Outstanding_Debt', data=df)\n",
    "plt.title('Boxplot of Outstanding Debt with respect to Credit Score', fontdict={'size':16, 'weight':'bold'})\n",
    "plt.xlabel('Credit Score', fontdict={'size':14, 'weight':'bold'})\n",
    "plt.ylabel('Outstanding Debt', fontdict={'size':14, 'weight':'bold'})\n",
    "plt.show()"
   ]
  },
  {
   "cell_type": "markdown",
   "id": "e73046cd",
   "metadata": {},
   "source": [
    "- Winsorize outliers"
   ]
  },
  {
   "cell_type": "code",
   "execution_count": 334,
   "id": "b33ed47a",
   "metadata": {},
   "outputs": [
    {
     "data": {
      "image/png": "[encoded data removed]",
      "text/plain": [
       "<Figure size 640x480 with 1 Axes>"
      ]
     },
     "metadata": {},
     "output_type": "display_data"
    }
   ],
   "source": [
    "# Winsorize within each credit score group\n",
    "df['Outstanding_Debt_Winsorized'] = df.groupby('Credit_Score')['Outstanding_Debt'].transform(\n",
    "    lambda x: winsorize(x, limits=[0.05, 0.05])  # Adjust limits as needed\n",
    ")\n",
    "\n",
    "# Plot the new column data\n",
    "plt.Figure(figsize=(12, 6))\n",
    "sns.boxplot(x='Credit_Score', y='Outstanding_Debt_Winsorized', data=df)\n",
    "plt.title('Boxplot of Winsorized Outstanding Debt with respect to Credit Score', fontdict={'size':16, 'weight':'bold'})\n",
    "plt.xlabel('Credit Score', fontdict={'size':14, 'weight':'bold'})\n",
    "plt.ylabel('Winsorized Outstanding Debt', fontdict={'size':14, 'weight':'bold'})\n",
    "plt.show()"
   ]
  },
  {
   "cell_type": "markdown",
   "id": "7d4d0600",
   "metadata": {},
   "source": [
    "- Drop the original column and print info"
   ]
  },
  {
   "cell_type": "code",
   "execution_count": 335,
   "id": "27465e4a",
   "metadata": {},
   "outputs": [
    {
     "name": "stdout",
     "output_type": "stream",
     "text": [
      "<class 'pandas.core.frame.DataFrame'>\n",
      "RangeIndex: 100000 entries, 0 to 99999\n",
      "Data columns (total 22 columns):\n",
      " #   Column                            Non-Null Count   Dtype  \n",
      "---  ------                            --------------   -----  \n",
      " 0   ID                                100000 non-null  int64  \n",
      " 1   Annual_Income                     100000 non-null  float64\n",
      " 2   Num_Bank_Accounts                 100000 non-null  int64  \n",
      " 3   Num_Credit_Card                   100000 non-null  int64  \n",
      " 4   Interest_Rate                     100000 non-null  int64  \n",
      " 5   Num_of_Loan                       100000 non-null  int64  \n",
      " 6   Delay_from_due_date               100000 non-null  int64  \n",
      " 7   Num_of_Delayed_Payment            100000 non-null  int64  \n",
      " 8   Changed_Credit_Limit              100000 non-null  float64\n",
      " 9   Num_Credit_Inquiries              100000 non-null  float64\n",
      " 10  Credit_Utilization_Ratio          100000 non-null  float64\n",
      " 11  Credit_History_Age                90970 non-null   object \n",
      " 12  Payment_of_Min_Amount             100000 non-null  object \n",
      " 13  Total_EMI_per_month               100000 non-null  float64\n",
      " 14  Amount_invested_monthly           95521 non-null   object \n",
      " 15  Payment_Behaviour                 100000 non-null  object \n",
      " 16  Monthly_Balance                   98800 non-null   object \n",
      " 17  Credit_Score                      100000 non-null  object \n",
      " 18  Occupation_Encoded                100000 non-null  int64  \n",
      " 19  Monthly_Inhand_Salary_Winsorized  100000 non-null  float64\n",
      " 20  Credit_Mix_Encoded                100000 non-null  int64  \n",
      " 21  Outstanding_Debt_Winsorized       100000 non-null  float64\n",
      "dtypes: float64(7), int64(9), object(6)\n",
      "memory usage: 16.8+ MB\n"
     ]
    }
   ],
   "source": [
    "df.drop(columns=['Outstanding_Debt'], inplace=True)\n",
    "df.info()"
   ]
  },
  {
   "cell_type": "markdown",
   "id": "48221797",
   "metadata": {},
   "source": [
    "# 4.17. Credit History age column"
   ]
  },
  {
   "cell_type": "code",
   "execution_count": 336,
   "id": "ad3b8469",
   "metadata": {},
   "outputs": [
    {
     "data": {
      "text/plain": [
       "np.int64(9030)"
      ]
     },
     "execution_count": 336,
     "metadata": {},
     "output_type": "execute_result"
    }
   ],
   "source": [
    "df['Credit_History_Age'].isnull().sum()"
   ]
  },
  {
   "cell_type": "markdown",
   "id": "88449073",
   "metadata": {},
   "source": [
    "- Replacing NaN Values with 1 year."
   ]
  },
  {
   "cell_type": "code",
   "execution_count": 337,
   "id": "afc0abd4",
   "metadata": {},
   "outputs": [
    {
     "data": {
      "text/plain": [
       "np.int64(0)"
      ]
     },
     "execution_count": 337,
     "metadata": {},
     "output_type": "execute_result"
    }
   ],
   "source": [
    "df['Credit_History_Age'] = df['Credit_History_Age'].fillna('0 Years and 0 Months')\n",
    "df['Credit_History_Age'].isnull().sum()"
   ]
  },
  {
   "cell_type": "code",
   "execution_count": 338,
   "id": "f58b8905",
   "metadata": {},
   "outputs": [
    {
     "data": {
      "text/plain": [
       "Credit_History_Age\n",
       "0 Years and 0 Months      9030\n",
       "15 Years and 11 Months     446\n",
       "19 Years and 4 Months      445\n",
       "19 Years and 5 Months      444\n",
       "17 Years and 11 Months     443\n",
       "                          ... \n",
       "0 Years and 3 Months        20\n",
       "0 Years and 2 Months        15\n",
       "33 Years and 7 Months       14\n",
       "33 Years and 8 Months       12\n",
       "0 Years and 1 Months         2\n",
       "Name: count, Length: 405, dtype: int64"
      ]
     },
     "execution_count": 338,
     "metadata": {},
     "output_type": "execute_result"
    }
   ],
   "source": [
    "df['Credit_History_Age'].value_counts()"
   ]
  },
  {
   "cell_type": "markdown",
   "id": "9a45de78",
   "metadata": {},
   "source": [
    "- Replace only with the number of years instead."
   ]
  },
  {
   "cell_type": "code",
   "execution_count": 339,
   "id": "ac9dbfac",
   "metadata": {},
   "outputs": [
    {
     "data": {
      "text/plain": [
       "Credit_History_Age\n",
       "0     9520\n",
       "19    4784\n",
       "18    4747\n",
       "17    4718\n",
       "16    4526\n",
       "15    3854\n",
       "20    3325\n",
       "6     3054\n",
       "13    3048\n",
       "30    2982\n",
       "32    2899\n",
       "8     2814\n",
       "29    2812\n",
       "9     2803\n",
       "31    2799\n",
       "12    2790\n",
       "23    2789\n",
       "28    2767\n",
       "24    2764\n",
       "26    2727\n",
       "22    2721\n",
       "21    2708\n",
       "11    2703\n",
       "27    2622\n",
       "10    2618\n",
       "7     2575\n",
       "25    2522\n",
       "14    2360\n",
       "5     2033\n",
       "33    1106\n",
       "1     1001\n",
       "2      938\n",
       "3      809\n",
       "4      762\n",
       "Name: count, dtype: int64"
      ]
     },
     "execution_count": 339,
     "metadata": {},
     "output_type": "execute_result"
    }
   ],
   "source": [
    "# Split at space\n",
    "df['Credit_History_Age'] = df['Credit_History_Age'].str.split(' ').str[0].astype(int)\n",
    "df['Credit_History_Age'].value_counts()"
   ]
  },
  {
   "cell_type": "markdown",
   "id": "db3e4b3f",
   "metadata": {},
   "source": [
    "- Replacing 0 with 1 and renaming the column to 'Credit_History_Years'"
   ]
  },
  {
   "cell_type": "code",
   "execution_count": 340,
   "id": "05b6cf01",
   "metadata": {},
   "outputs": [
    {
     "data": {
      "text/plain": [
       "Credit_History_Age\n",
       "1     10521\n",
       "19     4784\n",
       "18     4747\n",
       "17     4718\n",
       "16     4526\n",
       "15     3854\n",
       "20     3325\n",
       "6      3054\n",
       "13     3048\n",
       "30     2982\n",
       "32     2899\n",
       "8      2814\n",
       "29     2812\n",
       "9      2803\n",
       "31     2799\n",
       "12     2790\n",
       "23     2789\n",
       "28     2767\n",
       "24     2764\n",
       "26     2727\n",
       "22     2721\n",
       "21     2708\n",
       "11     2703\n",
       "27     2622\n",
       "10     2618\n",
       "7      2575\n",
       "25     2522\n",
       "14     2360\n",
       "5      2033\n",
       "33     1106\n",
       "2       938\n",
       "3       809\n",
       "4       762\n",
       "Name: count, dtype: int64"
      ]
     },
     "execution_count": 340,
     "metadata": {},
     "output_type": "execute_result"
    }
   ],
   "source": [
    "df['Credit_History_Age'] = df['Credit_History_Age'].replace(0, 1)\n",
    "df['Credit_History_Age'].value_counts()"
   ]
  },
  {
   "cell_type": "markdown",
   "id": "9cccb4fe",
   "metadata": {},
   "source": [
    "# 4.18. Payment of min amount"
   ]
  },
  {
   "cell_type": "code",
   "execution_count": 341,
   "id": "9d140700",
   "metadata": {},
   "outputs": [
    {
     "data": {
      "text/plain": [
       "Payment_of_Min_Amount\n",
       "Yes    52326\n",
       "No     35667\n",
       "NM     12007\n",
       "Name: count, dtype: int64"
      ]
     },
     "execution_count": 341,
     "metadata": {},
     "output_type": "execute_result"
    }
   ],
   "source": [
    "df['Payment_of_Min_Amount'].value_counts()"
   ]
  },
  {
   "cell_type": "markdown",
   "id": "c6bc95a3",
   "metadata": {},
   "source": [
    "- Encode the column using Label Encoding"
   ]
  },
  {
   "cell_type": "code",
   "execution_count": 342,
   "id": "62b2c5e3",
   "metadata": {},
   "outputs": [
    {
     "data": {
      "text/plain": [
       "Payment_of_Min_Amount\n",
       "2    52326\n",
       "1    35667\n",
       "0    12007\n",
       "Name: count, dtype: int64"
      ]
     },
     "execution_count": 342,
     "metadata": {},
     "output_type": "execute_result"
    }
   ],
   "source": [
    "# Label Encode the column\n",
    "label_en = LabelEncoder()\n",
    "df['Payment_of_Min_Amount'] = label_en.fit_transform(df['Payment_of_Min_Amount'])\n",
    "df['Payment_of_Min_Amount'].value_counts()"
   ]
  },
  {
   "cell_type": "code",
   "execution_count": 343,
   "id": "7e144c15",
   "metadata": {},
   "outputs": [
    {
     "name": "stdout",
     "output_type": "stream",
     "text": [
      "<class 'pandas.core.frame.DataFrame'>\n",
      "RangeIndex: 100000 entries, 0 to 99999\n",
      "Data columns (total 22 columns):\n",
      " #   Column                            Non-Null Count   Dtype  \n",
      "---  ------                            --------------   -----  \n",
      " 0   ID                                100000 non-null  int64  \n",
      " 1   Annual_Income                     100000 non-null  float64\n",
      " 2   Num_Bank_Accounts                 100000 non-null  int64  \n",
      " 3   Num_Credit_Card                   100000 non-null  int64  \n",
      " 4   Interest_Rate                     100000 non-null  int64  \n",
      " 5   Num_of_Loan                       100000 non-null  int64  \n",
      " 6   Delay_from_due_date               100000 non-null  int64  \n",
      " 7   Num_of_Delayed_Payment            100000 non-null  int64  \n",
      " 8   Changed_Credit_Limit              100000 non-null  float64\n",
      " 9   Num_Credit_Inquiries              100000 non-null  float64\n",
      " 10  Credit_Utilization_Ratio          100000 non-null  float64\n",
      " 11  Credit_History_Age                100000 non-null  int64  \n",
      " 12  Payment_of_Min_Amount             100000 non-null  int64  \n",
      " 13  Total_EMI_per_month               100000 non-null  float64\n",
      " 14  Amount_invested_monthly           95521 non-null   object \n",
      " 15  Payment_Behaviour                 100000 non-null  object \n",
      " 16  Monthly_Balance                   98800 non-null   object \n",
      " 17  Credit_Score                      100000 non-null  object \n",
      " 18  Occupation_Encoded                100000 non-null  int64  \n",
      " 19  Monthly_Inhand_Salary_Winsorized  100000 non-null  float64\n",
      " 20  Credit_Mix_Encoded                100000 non-null  int64  \n",
      " 21  Outstanding_Debt_Winsorized       100000 non-null  float64\n",
      "dtypes: float64(7), int64(11), object(4)\n",
      "memory usage: 16.8+ MB\n"
     ]
    }
   ],
   "source": [
    "df.info()"
   ]
  },
  {
   "cell_type": "markdown",
   "id": "f1e00af6",
   "metadata": {},
   "source": [
    "# 4.19. Total EMI per month"
   ]
  },
  {
   "cell_type": "code",
   "execution_count": 344,
   "id": "13fd92b8",
   "metadata": {},
   "outputs": [
    {
     "data": {
      "text/plain": [
       "Total_EMI_per_month\n",
       "0.000000        10613\n",
       "31.086195           8\n",
       "149.897199          8\n",
       "62.222285           8\n",
       "171.430198          8\n",
       "                ...  \n",
       "33746.000000        1\n",
       "39347.000000        1\n",
       "27292.000000        1\n",
       "16627.000000        1\n",
       "49430.000000        1\n",
       "Name: count, Length: 14950, dtype: int64"
      ]
     },
     "execution_count": 344,
     "metadata": {},
     "output_type": "execute_result"
    }
   ],
   "source": [
    "df['Total_EMI_per_month'].value_counts()"
   ]
  },
  {
   "cell_type": "markdown",
   "id": "9dc7862b",
   "metadata": {},
   "source": [
    "- For now we leave the Total EMI per month column as is."
   ]
  },
  {
   "cell_type": "markdown",
   "id": "0f9ece16",
   "metadata": {},
   "source": [
    "# 4.20. Amount invested monthly"
   ]
  },
  {
   "cell_type": "code",
   "execution_count": 345,
   "id": "8b9cf0fd",
   "metadata": {},
   "outputs": [
    {
     "data": {
      "text/plain": [
       "Amount_invested_monthly\n",
       "__10000__             4305\n",
       "0.0                    169\n",
       "167.1638651610451        1\n",
       "80.41529543900253        1\n",
       "118.28022162236736       1\n",
       "                      ... \n",
       "215.48638555294247       1\n",
       "78.49772657092517        1\n",
       "147.33990786653956       1\n",
       "82.82557214415213        1\n",
       "42.935565846112745       1\n",
       "Name: count, Length: 91049, dtype: int64"
      ]
     },
     "execution_count": 345,
     "metadata": {},
     "output_type": "execute_result"
    }
   ],
   "source": [
    "df['Amount_invested_monthly'].value_counts()"
   ]
  },
  {
   "cell_type": "markdown",
   "id": "890a7325",
   "metadata": {},
   "source": [
    "- Replace all '_' with empty string."
   ]
  },
  {
   "cell_type": "markdown",
   "id": "35c56945",
   "metadata": {},
   "source": [
    "- Cleaning all the weird values and otherwise non numerical values in the column."
   ]
  },
  {
   "cell_type": "code",
   "execution_count": 346,
   "id": "e7ce3ee9",
   "metadata": {},
   "outputs": [],
   "source": [
    "def robust_clean_investment(value):\n",
    "    if pd.isna(value):\n",
    "        return np.nan\n",
    "    \n",
    "    value_str = str(value).strip()\n",
    "    \n",
    "    # Common patterns to handle\n",
    "    patterns = [\n",
    "        (r'>\\s*(\\d+)', lambda x: int(x) + 1),           # >100 → 101\n",
    "        (r'>=\\s*(\\d+)', lambda x: int(x)),               # >=100 → 100\n",
    "        (r'<=\\s*(\\d+)', lambda x: int(x)),               # <=100 → 100\n",
    "        (r'<\\s*(\\d+)', lambda x: int(x) - 1),            # <100 → 99\n",
    "        (r'(\\d+)\\s*_', lambda x: int(x)),                # 100_ → 100\n",
    "        (r'_(\\d+)', lambda x: int(x)),                   # _100 → 100\n",
    "        (r'(\\d+)\\s*-\\s*(\\d+)', lambda x, y: (int(x) + int(y)) / 2),  # 100-200 → 150\n",
    "    ]\n",
    "    \n",
    "    # Try each pattern\n",
    "    for pattern, converter in patterns:\n",
    "        match = re.search(pattern, value_str)\n",
    "        if match:\n",
    "            try:\n",
    "                return converter(*match.groups())\n",
    "            except:\n",
    "                continue\n",
    "    \n",
    "    # Try to extract any numbers\n",
    "    numbers = re.findall(r'\\d+', value_str)\n",
    "    if numbers:\n",
    "        return float(numbers[0])  # Take the first number found\n",
    "    \n",
    "    return np.nan\n",
    "\n",
    "# Apply the robust cleaning\n",
    "df['Amount_Invested_Monthly_Clean'] = df['Amount_invested_monthly'].apply(robust_clean_investment)"
   ]
  },
  {
   "cell_type": "code",
   "execution_count": 347,
   "id": "1376ee0b",
   "metadata": {},
   "outputs": [],
   "source": [
    "df.drop(columns=['Amount_invested_monthly'], inplace=True)"
   ]
  },
  {
   "cell_type": "code",
   "execution_count": 348,
   "id": "e27e85af",
   "metadata": {},
   "outputs": [
    {
     "data": {
      "text/plain": [
       "Amount_Invested_Monthly_Clean\n",
       "636      4495\n",
       "10000    4305\n",
       "54        506\n",
       "62        506\n",
       "65        498\n",
       "         ... \n",
       "1202        1\n",
       "1785        1\n",
       "1340        1\n",
       "1018        1\n",
       "1637        1\n",
       "Name: count, Length: 1416, dtype: int64"
      ]
     },
     "execution_count": 348,
     "metadata": {},
     "output_type": "execute_result"
    }
   ],
   "source": [
    "df['Amount_Invested_Monthly_Clean'] = df['Amount_Invested_Monthly_Clean'].replace(np.nan, df['Amount_Invested_Monthly_Clean'].mean())\n",
    "df['Amount_Invested_Monthly_Clean'] = df['Amount_Invested_Monthly_Clean'].astype(int)\n",
    "df['Amount_Invested_Monthly_Clean'].value_counts()"
   ]
  },
  {
   "cell_type": "markdown",
   "id": "3c20911f",
   "metadata": {},
   "source": [
    "# 4.21. Payment Behaviour"
   ]
  },
  {
   "cell_type": "code",
   "execution_count": 349,
   "id": "3794ec8d",
   "metadata": {},
   "outputs": [
    {
     "data": {
      "text/plain": [
       "Payment_Behaviour\n",
       "Low_spent_Small_value_payments      25513\n",
       "High_spent_Medium_value_payments    17540\n",
       "Low_spent_Medium_value_payments     13861\n",
       "High_spent_Large_value_payments     13721\n",
       "High_spent_Small_value_payments     11340\n",
       "Low_spent_Large_value_payments      10425\n",
       "!@9#%8                               7600\n",
       "Name: count, dtype: int64"
      ]
     },
     "execution_count": 349,
     "metadata": {},
     "output_type": "execute_result"
    }
   ],
   "source": [
    "df['Payment_Behaviour'].value_counts()"
   ]
  },
  {
   "cell_type": "markdown",
   "id": "cbe0a4c1",
   "metadata": {},
   "source": [
    "- Unknown or Missing values marked as '!@9#%8'.\n",
    "- We will replace these with the standard which in this case is 'Low_spent_Small_value_payments'."
   ]
  },
  {
   "cell_type": "code",
   "execution_count": 350,
   "id": "f9a3c19d",
   "metadata": {},
   "outputs": [
    {
     "data": {
      "text/plain": [
       "Payment_Behaviour\n",
       "Low_spent_Small_value_payments      33113\n",
       "High_spent_Medium_value_payments    17540\n",
       "Low_spent_Medium_value_payments     13861\n",
       "High_spent_Large_value_payments     13721\n",
       "High_spent_Small_value_payments     11340\n",
       "Low_spent_Large_value_payments      10425\n",
       "Name: count, dtype: int64"
      ]
     },
     "execution_count": 350,
     "metadata": {},
     "output_type": "execute_result"
    }
   ],
   "source": [
    "df['Payment_Behaviour'] = df['Payment_Behaviour'].replace('!@9#%8', 'Low_spent_Small_value_payments')\n",
    "df['Payment_Behaviour'].value_counts()"
   ]
  },
  {
   "cell_type": "markdown",
   "id": "29657436",
   "metadata": {},
   "source": [
    "- We implement Label Encoding and create a new encoded column while dropping the previous original column."
   ]
  },
  {
   "cell_type": "code",
   "execution_count": 351,
   "id": "801b806e",
   "metadata": {},
   "outputs": [
    {
     "data": {
      "text/plain": [
       "Payment_Behaviour_Encoded\n",
       "5    33113\n",
       "1    17540\n",
       "4    13861\n",
       "0    13721\n",
       "2    11340\n",
       "3    10425\n",
       "Name: count, dtype: int64"
      ]
     },
     "execution_count": 351,
     "metadata": {},
     "output_type": "execute_result"
    }
   ],
   "source": [
    "le = LabelEncoder()\n",
    "df['Payment_Behaviour_Encoded'] = le.fit_transform(df['Payment_Behaviour'])\n",
    "df.drop(columns=['Payment_Behaviour'], inplace=True)\n",
    "df['Payment_Behaviour_Encoded'].value_counts()"
   ]
  },
  {
   "cell_type": "markdown",
   "id": "b63fb780",
   "metadata": {},
   "source": [
    "# 4.22. Monthly Balance"
   ]
  },
  {
   "cell_type": "code",
   "execution_count": 352,
   "id": "39571a0a",
   "metadata": {},
   "outputs": [
    {
     "data": {
      "text/plain": [
       "np.int64(1200)"
      ]
     },
     "execution_count": 352,
     "metadata": {},
     "output_type": "execute_result"
    }
   ],
   "source": [
    "df['Monthly_Balance'].isnull().sum()"
   ]
  },
  {
   "cell_type": "code",
   "execution_count": 353,
   "id": "cd39e782",
   "metadata": {},
   "outputs": [
    {
     "data": {
      "text/plain": [
       "array(['312.49408867943663', '284.62916249607184', '331.2098628537912',\n",
       "       ..., 516.8090832742814, 319.1649785257098, 393.6736955618808],\n",
       "      dtype=object)"
      ]
     },
     "execution_count": 353,
     "metadata": {},
     "output_type": "execute_result"
    }
   ],
   "source": [
    "df['Monthly_Balance'].unique()"
   ]
  },
  {
   "cell_type": "markdown",
   "id": "22c293a9",
   "metadata": {},
   "source": [
    "- Implement same cleaning cycle with the Monthly Balance column."
   ]
  },
  {
   "cell_type": "code",
   "execution_count": 354,
   "id": "af80ade4",
   "metadata": {},
   "outputs": [],
   "source": [
    "def robust_clean_investment(value):\n",
    "    if pd.isna(value):\n",
    "        return np.nan\n",
    "    \n",
    "    value_str = str(value).strip()\n",
    "    \n",
    "    # Common patterns to handle\n",
    "    patterns = [\n",
    "        (r'>\\s*(\\d+)', lambda x: int(x) + 1),           # >100 → 101\n",
    "        (r'>=\\s*(\\d+)', lambda x: int(x)),               # >=100 → 100\n",
    "        (r'<=\\s*(\\d+)', lambda x: int(x)),               # <=100 → 100\n",
    "        (r'<\\s*(\\d+)', lambda x: int(x) - 1),            # <100 → 99\n",
    "        (r'(\\d+)\\s*_', lambda x: int(x)),                # 100_ → 100\n",
    "        (r'_(\\d+)', lambda x: int(x)),                   # _100 → 100\n",
    "        (r'(\\d+)\\s*-\\s*(\\d+)', lambda x, y: (int(x) + int(y)) / 2),  # 100-200 → 150\n",
    "    ]\n",
    "    \n",
    "    # Try each pattern\n",
    "    for pattern, converter in patterns:\n",
    "        match = re.search(pattern, value_str)\n",
    "        if match:\n",
    "            try:\n",
    "                return converter(*match.groups())\n",
    "            except:\n",
    "                continue\n",
    "    \n",
    "    # Try to extract any numbers\n",
    "    numbers = re.findall(r'\\d+', value_str)\n",
    "    if numbers:\n",
    "        return float(numbers[0])  # Take the first number found\n",
    "    \n",
    "    return np.nan\n",
    "\n",
    "# Apply the robust cleaning\n",
    "df['Monthly_Balance_Cleaned'] = df['Monthly_Balance'].apply(robust_clean_investment)"
   ]
  },
  {
   "cell_type": "code",
   "execution_count": 355,
   "id": "fa7a9a17",
   "metadata": {},
   "outputs": [
    {
     "data": {
      "text/plain": [
       "array([ 312.,  284.,  331., ..., 1411., 1299., 1295.])"
      ]
     },
     "execution_count": 355,
     "metadata": {},
     "output_type": "execute_result"
    }
   ],
   "source": [
    "df['Monthly_Balance_Cleaned'] = df['Monthly_Balance_Cleaned'].replace(np.nan, df['Monthly_Balance_Cleaned'].mean())\n",
    "df['Monthly_Balance_Cleaned'] = df['Monthly_Balance_Cleaned'].astype(float)\n",
    "df['Monthly_Balance_Cleaned'].unique()"
   ]
  },
  {
   "cell_type": "code",
   "execution_count": 356,
   "id": "ef906da6",
   "metadata": {},
   "outputs": [],
   "source": [
    "df.drop(columns=['Monthly_Balance'], inplace=True)"
   ]
  },
  {
   "cell_type": "markdown",
   "id": "838809c1",
   "metadata": {},
   "source": [
    "# 4.23. Finally, Target Column 'Credit_Score'"
   ]
  },
  {
   "cell_type": "code",
   "execution_count": 357,
   "id": "c85c4d7d",
   "metadata": {},
   "outputs": [
    {
     "data": {
      "text/plain": [
       "Credit_Score\n",
       "Standard    53174\n",
       "Poor        28998\n",
       "Good        17828\n",
       "Name: count, dtype: int64"
      ]
     },
     "execution_count": 357,
     "metadata": {},
     "output_type": "execute_result"
    }
   ],
   "source": [
    "df['Credit_Score'].value_counts()"
   ]
  },
  {
   "cell_type": "markdown",
   "id": "3def1fa8",
   "metadata": {},
   "source": [
    "- Label Encode the Final Credit Score Column"
   ]
  },
  {
   "cell_type": "code",
   "execution_count": 358,
   "id": "9ea49a2e",
   "metadata": {},
   "outputs": [],
   "source": [
    "# Create a mapping dictionary\n",
    "credit_score_mapping = {'Poor': 0, 'Standard': 1, 'Good': 2}\n",
    "\n",
    "# Apply the mapping\n",
    "df['Credit_Score_Encoded'] = df['Credit_Score'].map(credit_score_mapping)"
   ]
  },
  {
   "cell_type": "markdown",
   "id": "b0b9b559",
   "metadata": {},
   "source": [
    "- After Encoding the final credit score column, we drop the original column and procced with the Model."
   ]
  },
  {
   "cell_type": "code",
   "execution_count": 359,
   "id": "61aecc58",
   "metadata": {},
   "outputs": [
    {
     "data": {
      "text/plain": [
       "Credit_Score_Encoded\n",
       "1    53174\n",
       "0    28998\n",
       "2    17828\n",
       "Name: count, dtype: int64"
      ]
     },
     "execution_count": 359,
     "metadata": {},
     "output_type": "execute_result"
    }
   ],
   "source": [
    "df.drop(columns=['Credit_Score'], inplace=True)\n",
    "df['Credit_Score_Encoded'].value_counts()"
   ]
  },
  {
   "cell_type": "markdown",
   "id": "a1396d5c",
   "metadata": {},
   "source": [
    "# 5. Conclusion"
   ]
  },
  {
   "cell_type": "markdown",
   "id": "856fc3d5",
   "metadata": {},
   "source": [
    "- Saving the new cleaned dataset as a CSV file.\n",
    "- We can now proceed to the Model Building stage."
   ]
  },
  {
   "cell_type": "code",
   "execution_count": 360,
   "id": "b3b3652a",
   "metadata": {},
   "outputs": [],
   "source": [
    "df.to_csv('Dataset/cleaned_dataset.csv', index=False)"
   ]
  },
  {
   "cell_type": "code",
   "execution_count": 361,
   "id": "aa12fe0f",
   "metadata": {},
   "outputs": [
    {
     "name": "stdout",
     "output_type": "stream",
     "text": [
      "<class 'pandas.core.frame.DataFrame'>\n",
      "RangeIndex: 100000 entries, 0 to 99999\n",
      "Data columns (total 22 columns):\n",
      " #   Column                            Non-Null Count   Dtype  \n",
      "---  ------                            --------------   -----  \n",
      " 0   ID                                100000 non-null  int64  \n",
      " 1   Annual_Income                     100000 non-null  float64\n",
      " 2   Num_Bank_Accounts                 100000 non-null  int64  \n",
      " 3   Num_Credit_Card                   100000 non-null  int64  \n",
      " 4   Interest_Rate                     100000 non-null  int64  \n",
      " 5   Num_of_Loan                       100000 non-null  int64  \n",
      " 6   Delay_from_due_date               100000 non-null  int64  \n",
      " 7   Num_of_Delayed_Payment            100000 non-null  int64  \n",
      " 8   Changed_Credit_Limit              100000 non-null  float64\n",
      " 9   Num_Credit_Inquiries              100000 non-null  float64\n",
      " 10  Credit_Utilization_Ratio          100000 non-null  float64\n",
      " 11  Credit_History_Age                100000 non-null  int64  \n",
      " 12  Payment_of_Min_Amount             100000 non-null  int64  \n",
      " 13  Total_EMI_per_month               100000 non-null  float64\n",
      " 14  Occupation_Encoded                100000 non-null  int64  \n",
      " 15  Monthly_Inhand_Salary_Winsorized  100000 non-null  float64\n",
      " 16  Credit_Mix_Encoded                100000 non-null  int64  \n",
      " 17  Outstanding_Debt_Winsorized       100000 non-null  float64\n",
      " 18  Amount_Invested_Monthly_Clean     100000 non-null  int64  \n",
      " 19  Payment_Behaviour_Encoded         100000 non-null  int64  \n",
      " 20  Monthly_Balance_Cleaned           100000 non-null  float64\n",
      " 21  Credit_Score_Encoded              100000 non-null  int64  \n",
      "dtypes: float64(8), int64(14)\n",
      "memory usage: 16.8 MB\n"
     ]
    }
   ],
   "source": [
    "df.info()"
   ]
  },
  {
   "cell_type": "code",
   "execution_count": 362,
   "id": "721147b5",
   "metadata": {},
   "outputs": [
    {
     "data": {
      "text/plain": [
       "ID                                  100000\n",
       "Annual_Income                       100000\n",
       "Num_Bank_Accounts                   100000\n",
       "Num_Credit_Card                     100000\n",
       "Interest_Rate                       100000\n",
       "Num_of_Loan                         100000\n",
       "Delay_from_due_date                 100000\n",
       "Num_of_Delayed_Payment              100000\n",
       "Changed_Credit_Limit                100000\n",
       "Num_Credit_Inquiries                100000\n",
       "Credit_Utilization_Ratio            100000\n",
       "Credit_History_Age                  100000\n",
       "Payment_of_Min_Amount               100000\n",
       "Total_EMI_per_month                 100000\n",
       "Occupation_Encoded                  100000\n",
       "Monthly_Inhand_Salary_Winsorized    100000\n",
       "Credit_Mix_Encoded                  100000\n",
       "Outstanding_Debt_Winsorized         100000\n",
       "Amount_Invested_Monthly_Clean       100000\n",
       "Payment_Behaviour_Encoded           100000\n",
       "Monthly_Balance_Cleaned             100000\n",
       "Credit_Score_Encoded                100000\n",
       "dtype: int64"
      ]
     },
     "execution_count": 362,
     "metadata": {},
     "output_type": "execute_result"
    }
   ],
   "source": [
    "# Check count of numerical columns\n",
    "df.select_dtypes(include=['int64', 'float64']).count()"
   ]
  },
  {
   "cell_type": "markdown",
   "id": "55467557",
   "metadata": {},
   "source": [
    "In this EDA file, we've cleaned the dataset and prepared it for the model building phase.\n",
    "1. Cleaned all columns from missing values.\n",
    "2. Removed non-essential columns.\n",
    "3. Handled outliers in more than one column by using winsorization.\n",
    "4. Encoded all categorical columns using Label & Conventional Encoding.\n",
    "5. Saved the cleaned dataset as a CSV file for further model training."
   ]
  }
 ],
 "metadata": {
  "kernelspec": {
   "display_name": "base",
   "language": "python",
   "name": "python3"
  },
  "language_info": {
   "codemirror_mode": {
    "name": "ipython",
    "version": 3
   },
   "file_extension": ".py",
   "mimetype": "text/x-python",
   "name": "python",
   "nbconvert_exporter": "python",
   "pygments_lexer": "ipython3",
   "version": "3.13.5"
  }
 },
 "nbformat": 4,
 "nbformat_minor": 5
}
